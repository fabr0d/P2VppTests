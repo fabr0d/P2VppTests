{
  "nbformat": 4,
  "nbformat_minor": 0,
  "metadata": {
    "colab": {
      "name": "PruebaPix2Vox ShapeNet Sin metadata.ipynb",
      "provenance": []
    },
    "kernelspec": {
      "name": "python3",
      "display_name": "Python 3"
    },
    "language_info": {
      "name": "python"
    },
    "accelerator": "GPU"
  },
  "cells": [
    {
      "cell_type": "code",
      "metadata": {
        "colab": {
          "base_uri": "https://localhost:8080/"
        },
        "id": "ZMbtwfoGmkMf",
        "outputId": "c5148e05-812f-46aa-e51b-5cd90633ee76"
      },
      "source": [
        "!git clone https://github.com/chicleee/Pix2Vox.git"
      ],
      "execution_count": null,
      "outputs": [
        {
          "output_type": "stream",
          "text": [
            "fatal: destination path 'Pix2Vox' already exists and is not an empty directory.\n"
          ],
          "name": "stdout"
        }
      ]
    },
    {
      "cell_type": "code",
      "metadata": {
        "colab": {
          "base_uri": "https://localhost:8080/"
        },
        "id": "vprWfcKLzIaK",
        "outputId": "5182e345-9885-445f-ef1b-f879d02ad48a"
      },
      "source": [
        "!ls"
      ],
      "execution_count": null,
      "outputs": [
        {
          "output_type": "stream",
          "text": [
            "config.py  datasets  __pycache__       runner.py\t  ShapeNetVox32\n",
            "core\t   models    requirements.txt  ShapeNetRendering  utils\n"
          ],
          "name": "stdout"
        }
      ]
    },
    {
      "cell_type": "code",
      "metadata": {
        "colab": {
          "base_uri": "https://localhost:8080/"
        },
        "id": "5nqlC9tbzKZf",
        "outputId": "52075ec8-7586-46b9-89bc-3cc183b86e7f"
      },
      "source": [
        "cd Pix2Vox/"
      ],
      "execution_count": null,
      "outputs": [
        {
          "output_type": "stream",
          "text": [
            "/content/Pix2Vox\n"
          ],
          "name": "stdout"
        }
      ]
    },
    {
      "cell_type": "code",
      "metadata": {
        "colab": {
          "base_uri": "https://localhost:8080/"
        },
        "id": "16kTjxZCzNBl",
        "outputId": "4d4fbd7a-736c-40a6-d482-9cc297869d5d"
      },
      "source": [
        "!ls"
      ],
      "execution_count": null,
      "outputs": [
        {
          "output_type": "stream",
          "text": [
            "LICENSE  Pix2Vox-A  Pix2Vox-F  README.md\n"
          ],
          "name": "stdout"
        }
      ]
    },
    {
      "cell_type": "code",
      "metadata": {
        "id": "9u1F-s17zQYd",
        "colab": {
          "base_uri": "https://localhost:8080/"
        },
        "outputId": "96774347-7568-44b1-f213-f06af31743f0"
      },
      "source": [
        "cd /content/Pix2Vox/Pix2Vox-A"
      ],
      "execution_count": null,
      "outputs": [
        {
          "output_type": "stream",
          "text": [
            "/content/Pix2Vox/Pix2Vox-A\n"
          ],
          "name": "stdout"
        }
      ]
    },
    {
      "cell_type": "code",
      "metadata": {
        "colab": {
          "base_uri": "https://localhost:8080/"
        },
        "id": "oEEU5EUgLu98",
        "outputId": "1385eb84-ebd0-40f3-d451-a8656d1d8ff7"
      },
      "source": [
        "!ls"
      ],
      "execution_count": null,
      "outputs": [
        {
          "output_type": "stream",
          "text": [
            "config.py  datasets  __pycache__       runner.py\n",
            "core\t   models    requirements.txt  utils\n"
          ],
          "name": "stdout"
        }
      ]
    },
    {
      "cell_type": "code",
      "metadata": {
        "colab": {
          "base_uri": "https://localhost:8080/"
        },
        "id": "wBdRiZUeMaN4",
        "outputId": "cbd5b054-dc78-4cef-ecf9-c47fd50be05e"
      },
      "source": [
        "!pip install -r requirements.txt"
      ],
      "execution_count": null,
      "outputs": [
        {
          "output_type": "stream",
          "text": [
            "Requirement already satisfied: argparse in /usr/local/lib/python3.7/dist-packages (from -r requirements.txt (line 1)) (1.4.0)\n",
            "Requirement already satisfied: easydict in /usr/local/lib/python3.7/dist-packages (from -r requirements.txt (line 2)) (1.9)\n",
            "Requirement already satisfied: matplotlib in /usr/local/lib/python3.7/dist-packages (from -r requirements.txt (line 3)) (3.2.2)\n",
            "Requirement already satisfied: numpy in /usr/local/lib/python3.7/dist-packages (from -r requirements.txt (line 4)) (1.19.5)\n",
            "Requirement already satisfied: opencv-python in /usr/local/lib/python3.7/dist-packages (from -r requirements.txt (line 5)) (4.1.2.30)\n",
            "Requirement already satisfied: scipy in /usr/local/lib/python3.7/dist-packages (from -r requirements.txt (line 6)) (1.4.1)\n",
            "Requirement already satisfied: python-dateutil>=2.1 in /usr/local/lib/python3.7/dist-packages (from matplotlib->-r requirements.txt (line 3)) (2.8.1)\n",
            "Requirement already satisfied: cycler>=0.10 in /usr/local/lib/python3.7/dist-packages (from matplotlib->-r requirements.txt (line 3)) (0.10.0)\n",
            "Requirement already satisfied: kiwisolver>=1.0.1 in /usr/local/lib/python3.7/dist-packages (from matplotlib->-r requirements.txt (line 3)) (1.3.1)\n",
            "Requirement already satisfied: pyparsing!=2.0.4,!=2.1.2,!=2.1.6,>=2.0.1 in /usr/local/lib/python3.7/dist-packages (from matplotlib->-r requirements.txt (line 3)) (2.4.7)\n",
            "Requirement already satisfied: six>=1.5 in /usr/local/lib/python3.7/dist-packages (from python-dateutil>=2.1->matplotlib->-r requirements.txt (line 3)) (1.15.0)\n"
          ],
          "name": "stdout"
        }
      ]
    },
    {
      "cell_type": "code",
      "metadata": {
        "colab": {
          "base_uri": "https://localhost:8080/"
        },
        "id": "-Q9G2EAEO-eF",
        "outputId": "c1f5d69f-db4f-430f-fe4b-57d0f466bf97"
      },
      "source": [
        "!wget http://cvgl.stanford.edu/data2/ShapeNetRendering.tgz"
      ],
      "execution_count": null,
      "outputs": [
        {
          "output_type": "stream",
          "text": [
            "--2021-07-13 16:20:18--  http://cvgl.stanford.edu/data2/ShapeNetRendering.tgz\n",
            "Resolving cvgl.stanford.edu (cvgl.stanford.edu)... 171.64.64.64\n",
            "Connecting to cvgl.stanford.edu (cvgl.stanford.edu)|171.64.64.64|:80... connected.\n",
            "HTTP request sent, awaiting response... 301 Moved Permanently\n",
            "Location: https://cvgl.stanford.edu/data2/ShapeNetRendering.tgz [following]\n",
            "--2021-07-13 16:20:19--  https://cvgl.stanford.edu/data2/ShapeNetRendering.tgz\n",
            "Connecting to cvgl.stanford.edu (cvgl.stanford.edu)|171.64.64.64|:443... connected.\n",
            "HTTP request sent, awaiting response... 200 OK\n",
            "Length: 12318245442 (11G) [application/x-gzip]\n",
            "Saving to: ‘ShapeNetRendering.tgz’\n",
            "\n",
            "ShapeNetRendering.t 100%[===================>]  11.47G  15.0MB/s    in 15m 17s \n",
            "\n",
            "2021-07-13 16:35:37 (12.8 MB/s) - ‘ShapeNetRendering.tgz’ saved [12318245442/12318245442]\n",
            "\n"
          ],
          "name": "stdout"
        }
      ]
    },
    {
      "cell_type": "code",
      "metadata": {
        "id": "w2ZFyUeEP5HG"
      },
      "source": [
        "!tar zxf ShapeNetRendering.tgz"
      ],
      "execution_count": null,
      "outputs": []
    },
    {
      "cell_type": "code",
      "metadata": {
        "colab": {
          "base_uri": "https://localhost:8080/"
        },
        "id": "AvbSWa_uP3so",
        "outputId": "e19d5f84-c87c-431d-ca2e-51dc2e810c75"
      },
      "source": [
        "!wget http://cvgl.stanford.edu/data2/ShapeNetVox32.tgz"
      ],
      "execution_count": null,
      "outputs": [
        {
          "output_type": "stream",
          "text": [
            "URL transformed to HTTPS due to an HSTS policy\n",
            "--2021-07-13 16:42:02--  https://cvgl.stanford.edu/data2/ShapeNetVox32.tgz\n",
            "Resolving cvgl.stanford.edu (cvgl.stanford.edu)... 171.64.64.64\n",
            "Connecting to cvgl.stanford.edu (cvgl.stanford.edu)|171.64.64.64|:443... connected.\n",
            "HTTP request sent, awaiting response... 200 OK\n",
            "Length: 22218020 (21M) [application/x-gzip]\n",
            "Saving to: ‘ShapeNetVox32.tgz’\n",
            "\n",
            "ShapeNetVox32.tgz   100%[===================>]  21.19M  10.7MB/s    in 2.0s    \n",
            "\n",
            "2021-07-13 16:42:05 (10.7 MB/s) - ‘ShapeNetVox32.tgz’ saved [22218020/22218020]\n",
            "\n"
          ],
          "name": "stdout"
        }
      ]
    },
    {
      "cell_type": "code",
      "metadata": {
        "id": "146Il-jUQYGg"
      },
      "source": [
        "!tar zxf ShapeNetVox32.tgz"
      ],
      "execution_count": null,
      "outputs": []
    },
    {
      "cell_type": "code",
      "metadata": {
        "id": "Ig9zUN4Hic4i",
        "colab": {
          "base_uri": "https://localhost:8080/"
        },
        "outputId": "b391047d-2b05-44b3-b77d-1d57f7311796"
      },
      "source": [
        "!pip install paddlepaddle-gpu"
      ],
      "execution_count": null,
      "outputs": [
        {
          "output_type": "stream",
          "text": [
            "Collecting paddlepaddle-gpu\n",
            "\u001b[?25l  Downloading https://files.pythonhosted.org/packages/b9/69/a43fee06da27be19ade12af31c9fc3115524a8c27848c029593bb2f7dd07/paddlepaddle_gpu-2.1.1-cp37-cp37m-manylinux1_x86_64.whl (361.4MB)\n",
            "\u001b[K     |████████████████████████████████| 361.4MB 51kB/s \n",
            "\u001b[?25hRequirement already satisfied: astor in /usr/local/lib/python3.7/dist-packages (from paddlepaddle-gpu) (0.8.1)\n",
            "Requirement already satisfied: numpy>=1.13; python_version >= \"3.5\" and platform_system != \"Windows\" in /usr/local/lib/python3.7/dist-packages (from paddlepaddle-gpu) (1.19.5)\n",
            "Requirement already satisfied: protobuf>=3.1.0 in /usr/local/lib/python3.7/dist-packages (from paddlepaddle-gpu) (3.17.3)\n",
            "Requirement already satisfied: gast>=0.3.3; platform_system != \"Windows\" in /usr/local/lib/python3.7/dist-packages (from paddlepaddle-gpu) (0.4.0)\n",
            "Requirement already satisfied: requests>=2.20.0 in /usr/local/lib/python3.7/dist-packages (from paddlepaddle-gpu) (2.23.0)\n",
            "Requirement already satisfied: decorator==4.4.2 in /usr/local/lib/python3.7/dist-packages (from paddlepaddle-gpu) (4.4.2)\n",
            "Requirement already satisfied: Pillow in /usr/local/lib/python3.7/dist-packages (from paddlepaddle-gpu) (7.1.2)\n",
            "Requirement already satisfied: six in /usr/local/lib/python3.7/dist-packages (from paddlepaddle-gpu) (1.15.0)\n",
            "Requirement already satisfied: idna<3,>=2.5 in /usr/local/lib/python3.7/dist-packages (from requests>=2.20.0->paddlepaddle-gpu) (2.10)\n",
            "Requirement already satisfied: chardet<4,>=3.0.2 in /usr/local/lib/python3.7/dist-packages (from requests>=2.20.0->paddlepaddle-gpu) (3.0.4)\n",
            "Requirement already satisfied: urllib3!=1.25.0,!=1.25.1,<1.26,>=1.21.1 in /usr/local/lib/python3.7/dist-packages (from requests>=2.20.0->paddlepaddle-gpu) (1.24.3)\n",
            "Requirement already satisfied: certifi>=2017.4.17 in /usr/local/lib/python3.7/dist-packages (from requests>=2.20.0->paddlepaddle-gpu) (2021.5.30)\n",
            "Installing collected packages: paddlepaddle-gpu\n",
            "\u001b[31mERROR: Could not install packages due to an EnvironmentError: [Errno 28] No space left on device\n",
            "\u001b[0m\n"
          ],
          "name": "stdout"
        }
      ]
    },
    {
      "cell_type": "code",
      "metadata": {
        "colab": {
          "base_uri": "https://localhost:8080/"
        },
        "id": "0gpHdlLeeuWf",
        "outputId": "76690893-5238-4cb9-9133-a6683ac06bc6"
      },
      "source": [
        "!python3 runner.py"
      ],
      "execution_count": null,
      "outputs": [
        {
          "output_type": "stream",
          "text": [
            "Traceback (most recent call last):\n",
            "  File \"runner.py\", line 18, in <module>\n",
            "    from core.train import train_net\n",
            "  File \"/content/Pix2Vox/Pix2Vox-A/core/train.py\", line 6, in <module>\n",
            "    import paddle\n",
            "  File \"/usr/local/lib/python3.7/dist-packages/paddle/__init__.py\", line 25, in <module>\n",
            "    from .fluid import monkey_patch_variable\n",
            "ImportError: cannot import name 'monkey_patch_variable' from 'paddle.fluid' (unknown location)\n"
          ],
          "name": "stdout"
        }
      ]
    },
    {
      "cell_type": "code",
      "metadata": {
        "id": "qMjztAnSzQq2"
      },
      "source": [
        "cd /content/Pix2Vox/Pix2Vox-A"
      ],
      "execution_count": null,
      "outputs": []
    },
    {
      "cell_type": "code",
      "metadata": {
        "id": "dsJcRijrLvew"
      },
      "source": [
        ""
      ],
      "execution_count": null,
      "outputs": []
    }
  ]
}