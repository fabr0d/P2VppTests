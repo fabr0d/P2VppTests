{
  "nbformat": 4,
  "nbformat_minor": 0,
  "metadata": {
    "colab": {
      "name": "Proyectos 2 Tests Pix2Vox .ipynb",
      "provenance": [],
      "collapsed_sections": []
    },
    "kernelspec": {
      "name": "python3",
      "display_name": "Python 3"
    },
    "language_info": {
      "name": "python"
    },
    "accelerator": "GPU"
  },
  "cells": [
    {
      "cell_type": "code",
      "metadata": {
        "colab": {
          "base_uri": "https://localhost:8080/"
        },
        "id": "Q1zy7yKCXc11",
        "outputId": "f8df911a-b856-49ed-f61e-12ddba56c75c"
      },
      "source": [
        "cd /content/drive/MyDrive/00Pix2Vox00/TestsP2V/Pix2Vox"
      ],
      "execution_count": null,
      "outputs": [
        {
          "output_type": "stream",
          "text": [
            "/content/drive/MyDrive/00Pix2Vox00/TestsP2V/Pix2Vox\n"
          ],
          "name": "stdout"
        }
      ]
    },
    {
      "cell_type": "code",
      "metadata": {
        "colab": {
          "base_uri": "https://localhost:8080/"
        },
        "id": "elNcxwfMYJBY",
        "outputId": "1889c424-bd22-4949-c501-f019a891678e"
      },
      "source": [
        "ls"
      ],
      "execution_count": null,
      "outputs": [
        {
          "output_type": "stream",
          "text": [
            "config.py  \u001b[0m\u001b[01;34mdatasets\u001b[0m/  \u001b[01;34mmodels\u001b[0m/  \u001b[01;34m__pycache__\u001b[0m/  requirements.txt  \u001b[01;34mutils\u001b[0m/\n",
            "\u001b[01;34mcore\u001b[0m/      LICENSE    \u001b[01;34moutput\u001b[0m/  README.md     runner.py\n"
          ],
          "name": "stdout"
        }
      ]
    },
    {
      "cell_type": "code",
      "metadata": {
        "colab": {
          "base_uri": "https://localhost:8080/"
        },
        "id": "NsubSg9WYu32",
        "outputId": "4be01c86-ebe6-447d-8199-4f493caecc5b"
      },
      "source": [
        "!pip install -r requirements.txt"
      ],
      "execution_count": null,
      "outputs": [
        {
          "output_type": "stream",
          "text": [
            "Requirement already satisfied: argparse in /usr/local/lib/python3.7/dist-packages (from -r requirements.txt (line 1)) (1.4.0)\n",
            "Requirement already satisfied: easydict in /usr/local/lib/python3.7/dist-packages (from -r requirements.txt (line 2)) (1.9)\n",
            "Requirement already satisfied: matplotlib in /usr/local/lib/python3.7/dist-packages (from -r requirements.txt (line 3)) (3.2.2)\n",
            "Requirement already satisfied: numpy in /usr/local/lib/python3.7/dist-packages (from -r requirements.txt (line 4)) (1.19.5)\n",
            "Requirement already satisfied: opencv-python in /usr/local/lib/python3.7/dist-packages (from -r requirements.txt (line 5)) (4.1.2.30)\n",
            "Requirement already satisfied: scipy in /usr/local/lib/python3.7/dist-packages (from -r requirements.txt (line 6)) (1.4.1)\n",
            "Requirement already satisfied: torchvision in /usr/local/lib/python3.7/dist-packages (from -r requirements.txt (line 7)) (0.10.0+cu102)\n",
            "Requirement already satisfied: tensorboardX==1.2.0 in /usr/local/lib/python3.7/dist-packages (from -r requirements.txt (line 8)) (1.2)\n",
            "Requirement already satisfied: cycler>=0.10 in /usr/local/lib/python3.7/dist-packages (from matplotlib->-r requirements.txt (line 3)) (0.10.0)\n",
            "Requirement already satisfied: kiwisolver>=1.0.1 in /usr/local/lib/python3.7/dist-packages (from matplotlib->-r requirements.txt (line 3)) (1.3.1)\n",
            "Requirement already satisfied: pyparsing!=2.0.4,!=2.1.2,!=2.1.6,>=2.0.1 in /usr/local/lib/python3.7/dist-packages (from matplotlib->-r requirements.txt (line 3)) (2.4.7)\n",
            "Requirement already satisfied: python-dateutil>=2.1 in /usr/local/lib/python3.7/dist-packages (from matplotlib->-r requirements.txt (line 3)) (2.8.1)\n",
            "Requirement already satisfied: torch==1.9.0 in /usr/local/lib/python3.7/dist-packages (from torchvision->-r requirements.txt (line 7)) (1.9.0+cu102)\n",
            "Requirement already satisfied: pillow>=5.3.0 in /usr/local/lib/python3.7/dist-packages (from torchvision->-r requirements.txt (line 7)) (7.1.2)\n",
            "Requirement already satisfied: six in /usr/local/lib/python3.7/dist-packages (from tensorboardX==1.2.0->-r requirements.txt (line 8)) (1.15.0)\n",
            "Requirement already satisfied: protobuf>=0.3.2 in /usr/local/lib/python3.7/dist-packages (from tensorboardX==1.2.0->-r requirements.txt (line 8)) (3.17.3)\n",
            "Requirement already satisfied: typing-extensions in /usr/local/lib/python3.7/dist-packages (from torch==1.9.0->torchvision->-r requirements.txt (line 7)) (3.7.4.3)\n"
          ],
          "name": "stdout"
        }
      ]
    },
    {
      "cell_type": "markdown",
      "metadata": {
        "id": "Qo3wu_P0cXh5"
      },
      "source": [
        "###------------TEST PESOS SHAPENET------------"
      ]
    },
    {
      "cell_type": "markdown",
      "metadata": {
        "id": "dRSwjDXSzqhF"
      },
      "source": [
        "Imagenes Reales - 1"
      ]
    },
    {
      "cell_type": "code",
      "metadata": {
        "id": "kX6AvTHmzpu1"
      },
      "source": [
        "!python3 runner.py --test --weights=/content/drive/MyDrive/00Pix2Vox00/Pix2Vox-A-ShapeNet.pth"
      ],
      "execution_count": null,
      "outputs": []
    },
    {
      "cell_type": "markdown",
      "metadata": {
        "id": "I1PeTimyzv1J"
      },
      "source": [
        "Imagenes Reales - 2"
      ]
    },
    {
      "cell_type": "code",
      "metadata": {
        "id": "O46iD2jbzpgD"
      },
      "source": [
        "!python3 runner.py --test --weights=/content/drive/MyDrive/00Pix2Vox00/Pix2Vox-A-ShapeNet.pth"
      ],
      "execution_count": null,
      "outputs": []
    },
    {
      "cell_type": "markdown",
      "metadata": {
        "id": "4U8y5ymI0llH"
      },
      "source": [
        "Imagenes Reales - 3"
      ]
    },
    {
      "cell_type": "code",
      "metadata": {
        "id": "bNAoEzNsY5A6",
        "colab": {
          "base_uri": "https://localhost:8080/"
        },
        "outputId": "f7f05675-a8c6-4d8a-a837-a3892dd53ec4"
      },
      "source": [
        "!python3 runner.py --test --weights=/content/drive/MyDrive/00Pix2Vox00/Pix2Vox-A-ShapeNet.pth"
      ],
      "execution_count": null,
      "outputs": [
        {
          "output_type": "stream",
          "text": [
            "Use config:\n",
            "{'CONST': {'BATCH_SIZE': 64,\n",
            "           'CROP_IMG_H': 128,\n",
            "           'CROP_IMG_W': 128,\n",
            "           'DEVICE': '0',\n",
            "           'IMG_H': 224,\n",
            "           'IMG_W': 224,\n",
            "           'N_VIEWS_RENDERING': 3,\n",
            "           'N_VOX': 32,\n",
            "           'RNG_SEED': 0,\n",
            "           'WEIGHTS': '/content/drive/MyDrive/00Pix2Vox00/Pix2Vox-A-ShapeNet.pth'},\n",
            " 'DATASET': {'MEAN': [0.5, 0.5, 0.5],\n",
            "             'STD': [0.5, 0.5, 0.5],\n",
            "             'TEST_DATASET': 'ShapeNet',\n",
            "             'TRAIN_DATASET': 'ShapeNet'},\n",
            " 'DATASETS': {'SHAPENET': {'RENDERING_PATH': '/content/drive/MyDrive/00Pix2Vox00/Pix2Vox/PropioDS/DemoImage/%s/%s/rendering/%02d.png',\n",
            "                           'TAXONOMY_FILE_PATH': '/content/drive/MyDrive/00Pix2Vox00/Pix2Vox/PropioDS/REAL.json',\n",
            "                           'VOXEL_PATH': '/content/drive/MyDrive/00Pix2Vox00/Pix2Vox/PropioDS/DemoImage/%s/%s/model.binvox'}},\n",
            " 'DIR': {'OUT_PATH': './output',\n",
            "         'RANDOM_BG_PATH': '/home/hzxie/Datasets/SUN2012/JPEGImages'},\n",
            " 'NETWORK': {'LEAKY_VALUE': 0.2,\n",
            "             'TCONV_USE_BIAS': False,\n",
            "             'USE_MERGER': True,\n",
            "             'USE_REFINER': True},\n",
            " 'TEST': {'RANDOM_BG_COLOR_RANGE': [[240, 240], [240, 240], [240, 240]],\n",
            "          'VOXEL_THRESH': [0.2, 0.3, 0.4, 0.5]},\n",
            " 'TRAIN': {'BETAS': [0.9, 0.999],\n",
            "           'BRIGHTNESS': 0.4,\n",
            "           'CONTRAST': 0.4,\n",
            "           'DECODER_LEARNING_RATE': 0.001,\n",
            "           'DECODER_LR_MILESTONES': [150],\n",
            "           'ENCODER_LEARNING_RATE': 0.001,\n",
            "           'ENCODER_LR_MILESTONES': [150],\n",
            "           'EPOCH_START_USE_MERGER': 0,\n",
            "           'EPOCH_START_USE_REFINER': 0,\n",
            "           'GAMMA': 0.5,\n",
            "           'MERGER_LEARNING_RATE': 0.0001,\n",
            "           'MERGER_LR_MILESTONES': [150],\n",
            "           'MOMENTUM': 0.9,\n",
            "           'NOISE_STD': 0.1,\n",
            "           'NUM_EPOCHES': 250,\n",
            "           'NUM_WORKER': 4,\n",
            "           'POLICY': 'adam',\n",
            "           'RANDOM_BG_COLOR_RANGE': [[225, 255], [225, 255], [225, 255]],\n",
            "           'REFINER_LEARNING_RATE': 0.001,\n",
            "           'REFINER_LR_MILESTONES': [150],\n",
            "           'RESUME_TRAIN': False,\n",
            "           'SATURATION': 0.4,\n",
            "           'SAVE_FREQ': 10,\n",
            "           'UPDATE_N_VIEWS_RENDERING': False}}\n",
            "[INFO] 2021-07-08 23:41:56.655391 Collecting files of Taxonomy[ID=pieza0, Name=piezaCero]\n",
            "[INFO] 2021-07-08 23:41:56.657556 Collecting files of Taxonomy[ID=pieza1, Name=piezaUno]\n",
            "[INFO] 2021-07-08 23:41:56.659365 Collecting files of Taxonomy[ID=pieza2, Name=piezaDos]\n",
            "[INFO] 2021-07-08 23:41:56.661187 Complete collecting files of the dataset. Total files: 3.\n",
            "[INFO] 2021-07-08 23:42:02.090135 Loading weights from /content/drive/MyDrive/00Pix2Vox00/Pix2Vox-A-ShapeNet.pth ...\n",
            "[INFO/Process-1] child process calling self.run()\n",
            "[INFO/Process-1] created temp directory /tmp/pymp-of8sll7q\n",
            "/usr/local/lib/python3.7/dist-packages/torch/nn/functional.py:718: UserWarning: Named tensors and all their associated APIs are an experimental feature and subject to change. Please do not use them for anything important until they are released as stable. (Triggered internally at  /pytorch/c10/core/TensorImpl.h:1156.)\n",
            "  return torch.max_pool2d(input, kernel_size, stride, padding, dilation, ceil_mode)\n",
            "[INFO] 2021-07-08 23:42:09.031500 Test[1/3] Taxonomy = pieza0 Sample = pieza0subfolder EDLoss = 3.0260 RLoss = 3.2283 IoU = ['0.1399', '0.1372', '0.1266', '0.1066']\n",
            "[INFO] 2021-07-08 23:42:13.280208 Test[2/3] Taxonomy = pieza1 Sample = pieza1subfolder EDLoss = 0.8295 RLoss = 0.8655 IoU = ['0.1173', '0.1204', '0.1275', '0.1238']\n",
            "[INFO] 2021-07-08 23:42:16.159467 Test[3/3] Taxonomy = pieza2 Sample = pieza2subfolder EDLoss = 0.4220 RLoss = 0.4588 IoU = ['0.3022', '0.2539', '0.1881', '0.1412']\n",
            "[INFO/Process-1] process shutting down\n",
            "[INFO/Process-1] process exiting with exitcode 0\n",
            "============================ TEST RESULTS ============================\n",
            "# of views : 3\n",
            "Taxonomy\t#Sample\tBaseline\tt=0.20\tt=0.30\tt=0.40\tt=0.50\t\n",
            "piezaCero\t1\t0.7320\t\t0.1399\t0.1372\t0.1266\t0.1066\t\n",
            "piezaUno\t1\t0.5450\t\t0.1173\t0.1204\t0.1275\t0.1238\t\n",
            "piezaDos\t1\t0.5930\t\t0.3022\t0.2539\t0.1881\t0.1412\t\n",
            "Overall \t\t\t\t0.1865\t0.1705\t0.1474\t0.1239\t\n",
            "\n",
            "[INFO/MainProcess] process shutting down\n"
          ],
          "name": "stdout"
        }
      ]
    },
    {
      "cell_type": "markdown",
      "metadata": {
        "id": "Mgm9mi840wWt"
      },
      "source": [
        "Imagenes Sinteticas -1"
      ]
    },
    {
      "cell_type": "code",
      "metadata": {
        "id": "5kjrXdxe0vLa"
      },
      "source": [
        "!python3 runner.py --test --weights=/content/drive/MyDrive/00Pix2Vox00/Pix2Vox-A-ShapeNet.pth"
      ],
      "execution_count": null,
      "outputs": []
    },
    {
      "cell_type": "markdown",
      "metadata": {
        "id": "VKEUwmJz0wrn"
      },
      "source": [
        "Imagenes Sinteticas - 2"
      ]
    },
    {
      "cell_type": "code",
      "metadata": {
        "id": "G2vu6pEc0vJM"
      },
      "source": [
        "!python3 runner.py --test --weights=/content/drive/MyDrive/00Pix2Vox00/Pix2Vox-A-ShapeNet.pth"
      ],
      "execution_count": null,
      "outputs": []
    },
    {
      "cell_type": "markdown",
      "metadata": {
        "id": "uZxSLXFX0w5B"
      },
      "source": [
        "Imagenes Sinteticas - 3"
      ]
    },
    {
      "cell_type": "code",
      "metadata": {
        "id": "70PTbfII0usY",
        "colab": {
          "base_uri": "https://localhost:8080/"
        },
        "outputId": "a9a0077b-8641-429f-c2f4-8a93248efeb0"
      },
      "source": [
        "!python3 runner.py --test --weights=/content/drive/MyDrive/00Pix2Vox00/Pix2Vox-A-ShapeNet.pth"
      ],
      "execution_count": null,
      "outputs": [
        {
          "output_type": "stream",
          "text": [
            "Use config:\n",
            "{'CONST': {'BATCH_SIZE': 64,\n",
            "           'CROP_IMG_H': 128,\n",
            "           'CROP_IMG_W': 128,\n",
            "           'DEVICE': '0',\n",
            "           'IMG_H': 224,\n",
            "           'IMG_W': 224,\n",
            "           'N_VIEWS_RENDERING': 3,\n",
            "           'N_VOX': 32,\n",
            "           'RNG_SEED': 0,\n",
            "           'WEIGHTS': '/content/drive/MyDrive/00Pix2Vox00/Pix2Vox-A-ShapeNet.pth'},\n",
            " 'DATASET': {'MEAN': [0.5, 0.5, 0.5],\n",
            "             'STD': [0.5, 0.5, 0.5],\n",
            "             'TEST_DATASET': 'ShapeNet',\n",
            "             'TRAIN_DATASET': 'ShapeNet'},\n",
            " 'DATASETS': {'SHAPENET': {'RENDERING_PATH': '/content/drive/MyDrive/00Pix2Vox00/Pix2Vox/PropioDS/images/%s/%s/rendering/%02d.png',\n",
            "                           'TAXONOMY_FILE_PATH': '/content/drive/MyDrive/00Pix2Vox00/Pix2Vox/PropioDS/MODS.json',\n",
            "                           'VOXEL_PATH': '/content/drive/MyDrive/00Pix2Vox00/Pix2Vox/PropioDS/images/%s/%s/model.binvox'}},\n",
            " 'DIR': {'OUT_PATH': './output',\n",
            "         'RANDOM_BG_PATH': '/home/hzxie/Datasets/SUN2012/JPEGImages'},\n",
            " 'NETWORK': {'LEAKY_VALUE': 0.2,\n",
            "             'TCONV_USE_BIAS': False,\n",
            "             'USE_MERGER': True,\n",
            "             'USE_REFINER': True},\n",
            " 'TEST': {'RANDOM_BG_COLOR_RANGE': [[240, 240], [240, 240], [240, 240]],\n",
            "          'VOXEL_THRESH': [0.2, 0.3, 0.4, 0.5]},\n",
            " 'TRAIN': {'BETAS': [0.9, 0.999],\n",
            "           'BRIGHTNESS': 0.4,\n",
            "           'CONTRAST': 0.4,\n",
            "           'DECODER_LEARNING_RATE': 0.001,\n",
            "           'DECODER_LR_MILESTONES': [150],\n",
            "           'ENCODER_LEARNING_RATE': 0.001,\n",
            "           'ENCODER_LR_MILESTONES': [150],\n",
            "           'EPOCH_START_USE_MERGER': 0,\n",
            "           'EPOCH_START_USE_REFINER': 0,\n",
            "           'GAMMA': 0.5,\n",
            "           'MERGER_LEARNING_RATE': 0.0001,\n",
            "           'MERGER_LR_MILESTONES': [150],\n",
            "           'MOMENTUM': 0.9,\n",
            "           'NOISE_STD': 0.1,\n",
            "           'NUM_EPOCHES': 250,\n",
            "           'NUM_WORKER': 4,\n",
            "           'POLICY': 'adam',\n",
            "           'RANDOM_BG_COLOR_RANGE': [[225, 255], [225, 255], [225, 255]],\n",
            "           'REFINER_LEARNING_RATE': 0.001,\n",
            "           'REFINER_LR_MILESTONES': [150],\n",
            "           'RESUME_TRAIN': False,\n",
            "           'SATURATION': 0.4,\n",
            "           'SAVE_FREQ': 10,\n",
            "           'UPDATE_N_VIEWS_RENDERING': False}}\n",
            "[INFO] 2021-07-08 23:40:53.372085 Collecting files of Taxonomy[ID=pieza0, Name=piezaCero]\n",
            "[INFO] 2021-07-08 23:40:53.571105 Collecting files of Taxonomy[ID=pieza1, Name=piezaUno]\n",
            "[INFO] 2021-07-08 23:40:53.760627 Collecting files of Taxonomy[ID=pieza2, Name=piezaDos]\n",
            "[INFO] 2021-07-08 23:40:53.961861 Complete collecting files of the dataset. Total files: 90.\n",
            "[INFO] 2021-07-08 23:40:59.573542 Loading weights from /content/drive/MyDrive/00Pix2Vox00/Pix2Vox-A-ShapeNet.pth ...\n",
            "[INFO/Process-1] child process calling self.run()\n",
            "[INFO/Process-1] created temp directory /tmp/pymp-hzviuvo2\n",
            "/usr/local/lib/python3.7/dist-packages/torch/nn/functional.py:718: UserWarning: Named tensors and all their associated APIs are an experimental feature and subject to change. Please do not use them for anything important until they are released as stable. (Triggered internally at  /pytorch/c10/core/TensorImpl.h:1156.)\n",
            "  return torch.max_pool2d(input, kernel_size, stride, padding, dilation, ceil_mode)\n",
            "[INFO] 2021-07-08 23:41:14.956511 Test[1/90] Taxonomy = pieza0 Sample = pieza0background120 EDLoss = 3.8010 RLoss = 2.7296 IoU = ['0.1574', '0.1647', '0.1710', '0.1829']\n",
            "[INFO] 2021-07-08 23:41:21.777170 Test[2/90] Taxonomy = pieza0 Sample = pieza0background121 EDLoss = 2.8726 RLoss = 2.9397 IoU = ['0.1373', '0.1361', '0.1334', '0.1286']\n",
            "[INFO] 2021-07-08 23:41:26.926936 Test[3/90] Taxonomy = pieza0 Sample = pieza0background122 EDLoss = 2.6861 RLoss = 2.8388 IoU = ['0.0957', '0.0849', '0.0737', '0.0407']\n",
            "[INFO] 2021-07-08 23:41:26.981489 Test[4/90] Taxonomy = pieza0 Sample = pieza0background123 EDLoss = 2.7992 RLoss = 2.8018 IoU = ['0.0462', '0.0314', '0.0173', '0.0048']\n",
            "[INFO] 2021-07-08 23:41:27.035465 Test[5/90] Taxonomy = pieza0 Sample = pieza0background124 EDLoss = 9.6364 RLoss = 3.9460 IoU = ['0.1148', '0.1177', '0.1214', '0.1215']\n",
            "[INFO] 2021-07-08 23:41:27.089818 Test[6/90] Taxonomy = pieza0 Sample = pieza0background125 EDLoss = 7.4703 RLoss = 3.7339 IoU = ['0.0973', '0.1057', '0.1138', '0.1423']\n",
            "[INFO] 2021-07-08 23:41:27.144207 Test[7/90] Taxonomy = pieza0 Sample = pieza0background126 EDLoss = 1.8982 RLoss = 1.7166 IoU = ['0.1471', '0.0872', '0.0371', '0.0049']\n",
            "[INFO] 2021-07-08 23:41:27.198083 Test[8/90] Taxonomy = pieza0 Sample = pieza0background127 EDLoss = 2.5178 RLoss = 2.5477 IoU = ['0.0916', '0.0711', '0.0465', '0.0191']\n",
            "[INFO] 2021-07-08 23:41:27.232251 Test[9/90] Taxonomy = pieza0 Sample = pieza0background128 EDLoss = 2.5553 RLoss = 2.8252 IoU = ['0.0469', '0.0399', '0.0320', '0.0242']\n",
            "[INFO] 2021-07-08 23:41:27.262471 Test[10/90] Taxonomy = pieza0 Sample = pieza0background129 EDLoss = 3.0445 RLoss = 2.5472 IoU = ['0.1335', '0.1282', '0.1221', '0.1080']\n",
            "[INFO] 2021-07-08 23:41:27.293911 Test[11/90] Taxonomy = pieza0 Sample = pieza0background130 EDLoss = 2.3113 RLoss = 2.4910 IoU = ['0.0927', '0.0671', '0.0378', '0.0163']\n",
            "[INFO] 2021-07-08 23:41:27.324450 Test[12/90] Taxonomy = pieza0 Sample = pieza0background131 EDLoss = 2.3022 RLoss = 2.2700 IoU = ['0.0753', '0.0646', '0.0563', '0.0314']\n",
            "[INFO] 2021-07-08 23:41:27.356296 Test[13/90] Taxonomy = pieza0 Sample = pieza0background132 EDLoss = 3.0081 RLoss = 3.0554 IoU = ['0.1159', '0.1105', '0.1030', '0.0822']\n",
            "[INFO] 2021-07-08 23:41:27.386951 Test[14/90] Taxonomy = pieza0 Sample = pieza0background133 EDLoss = 3.4262 RLoss = 2.4520 IoU = ['0.0724', '0.0812', '0.0816', '0.0433']\n",
            "[INFO] 2021-07-08 23:41:27.418582 Test[15/90] Taxonomy = pieza0 Sample = pieza0background134 EDLoss = 4.4210 RLoss = 2.6934 IoU = ['0.1629', '0.1652', '0.1703', '0.1853']\n",
            "[INFO] 2021-07-08 23:41:27.449215 Test[16/90] Taxonomy = pieza0 Sample = pieza0background135 EDLoss = 3.6855 RLoss = 2.6217 IoU = ['0.1665', '0.1682', '0.1656', '0.1625']\n",
            "[INFO] 2021-07-08 23:41:27.479445 Test[17/90] Taxonomy = pieza0 Sample = pieza0background136 EDLoss = 3.2441 RLoss = 3.5644 IoU = ['0.0302', '0.0313', '0.0315', '0.0364']\n",
            "[INFO] 2021-07-08 23:41:27.510154 Test[18/90] Taxonomy = pieza0 Sample = pieza0background137 EDLoss = 2.4343 RLoss = 2.4755 IoU = ['0.1066', '0.0801', '0.0550', '0.0311']\n",
            "[INFO] 2021-07-08 23:41:27.541005 Test[19/90] Taxonomy = pieza0 Sample = pieza0background138 EDLoss = 1.9100 RLoss = 2.0406 IoU = ['0.2159', '0.1977', '0.1759', '0.1478']\n",
            "[INFO] 2021-07-08 23:41:27.571544 Test[20/90] Taxonomy = pieza0 Sample = pieza0background139 EDLoss = 2.5820 RLoss = 2.7030 IoU = ['0.1127', '0.1050', '0.0970', '0.0801']\n",
            "[INFO] 2021-07-08 23:41:27.602661 Test[21/90] Taxonomy = pieza0 Sample = pieza0background140 EDLoss = 2.4105 RLoss = 2.2425 IoU = ['0.0836', '0.0699', '0.0588', '0.0305']\n",
            "[INFO] 2021-07-08 23:41:27.633194 Test[22/90] Taxonomy = pieza0 Sample = pieza0background141 EDLoss = 2.3608 RLoss = 2.4909 IoU = ['0.1150', '0.1054', '0.0884', '0.0811']\n",
            "[INFO] 2021-07-08 23:41:27.664302 Test[23/90] Taxonomy = pieza0 Sample = pieza0background142 EDLoss = 2.7013 RLoss = 2.6799 IoU = ['0.0994', '0.0912', '0.0800', '0.0552']\n",
            "[INFO] 2021-07-08 23:41:27.695095 Test[24/90] Taxonomy = pieza0 Sample = pieza0background143 EDLoss = 5.8840 RLoss = 5.3816 IoU = ['0.0950', '0.0966', '0.1004', '0.1021']\n",
            "[INFO] 2021-07-08 23:41:27.726069 Test[25/90] Taxonomy = pieza0 Sample = pieza0background144 EDLoss = 2.4579 RLoss = 2.5011 IoU = ['0.0941', '0.0828', '0.0744', '0.0503']\n",
            "[INFO] 2021-07-08 23:41:27.757277 Test[26/90] Taxonomy = pieza0 Sample = pieza0background145 EDLoss = 2.5097 RLoss = 2.4973 IoU = ['0.1142', '0.1065', '0.0970', '0.0784']\n",
            "[INFO] 2021-07-08 23:41:27.788085 Test[27/90] Taxonomy = pieza0 Sample = pieza0background146 EDLoss = 6.2079 RLoss = 3.0922 IoU = ['0.1247', '0.1234', '0.1219', '0.1139']\n",
            "[INFO] 2021-07-08 23:41:27.820808 Test[28/90] Taxonomy = pieza0 Sample = pieza0background147 EDLoss = 3.3401 RLoss = 2.3788 IoU = ['0.1018', '0.1162', '0.1251', '0.1175']\n",
            "[INFO] 2021-07-08 23:41:27.851669 Test[29/90] Taxonomy = pieza0 Sample = pieza0background148 EDLoss = 2.1107 RLoss = 2.0276 IoU = ['0.1512', '0.1082', '0.0697', '0.0289']\n",
            "[INFO] 2021-07-08 23:41:27.883654 Test[30/90] Taxonomy = pieza0 Sample = pieza0background149 EDLoss = 2.5148 RLoss = 1.7587 IoU = ['0.2106', '0.2135', '0.2120', '0.1560']\n",
            "[INFO] 2021-07-08 23:41:27.915577 Test[31/90] Taxonomy = pieza1 Sample = pieza1background120 EDLoss = 1.0907 RLoss = 0.8871 IoU = ['0.2012', '0.2163', '0.2302', '0.2487']\n",
            "[INFO] 2021-07-08 23:41:27.948920 Test[32/90] Taxonomy = pieza1 Sample = pieza1background121 EDLoss = 0.9616 RLoss = 0.8614 IoU = ['0.0573', '0.0542', '0.0407', '0.0186']\n",
            "[INFO] 2021-07-08 23:41:27.979744 Test[33/90] Taxonomy = pieza1 Sample = pieza1background122 EDLoss = 0.8816 RLoss = 0.8929 IoU = ['0.0918', '0.0986', '0.1087', '0.1159']\n",
            "[INFO] 2021-07-08 23:41:28.010533 Test[34/90] Taxonomy = pieza1 Sample = pieza1background123 EDLoss = 0.9130 RLoss = 0.9789 IoU = ['0.0857', '0.0858', '0.0801', '0.0753']\n",
            "[INFO] 2021-07-08 23:41:28.041974 Test[35/90] Taxonomy = pieza1 Sample = pieza1background124 EDLoss = 4.8339 RLoss = 3.5457 IoU = ['0.0604', '0.0659', '0.0733', '0.0922']\n",
            "[INFO] 2021-07-08 23:41:28.072990 Test[36/90] Taxonomy = pieza1 Sample = pieza1background125 EDLoss = 2.4328 RLoss = 1.8740 IoU = ['0.0963', '0.1024', '0.1088', '0.1298']\n",
            "[INFO] 2021-07-08 23:41:28.104131 Test[37/90] Taxonomy = pieza1 Sample = pieza1background126 EDLoss = 0.7061 RLoss = 0.7246 IoU = ['0.1595', '0.1578', '0.1531', '0.1263']\n",
            "[INFO] 2021-07-08 23:41:28.134528 Test[38/90] Taxonomy = pieza1 Sample = pieza1background127 EDLoss = 0.7921 RLoss = 0.8386 IoU = ['0.1833', '0.1772', '0.1684', '0.1673']\n",
            "[INFO] 2021-07-08 23:41:28.166389 Test[39/90] Taxonomy = pieza1 Sample = pieza1background128 EDLoss = 0.6681 RLoss = 0.6713 IoU = ['0.1401', '0.1466', '0.1367', '0.1043']\n",
            "[INFO] 2021-07-08 23:41:28.197484 Test[40/90] Taxonomy = pieza1 Sample = pieza1background129 EDLoss = 0.8954 RLoss = 0.6302 IoU = ['0.2655', '0.2796', '0.2787', '0.2582']\n",
            "[INFO] 2021-07-08 23:41:28.229974 Test[41/90] Taxonomy = pieza1 Sample = pieza1background130 EDLoss = 1.0137 RLoss = 1.0177 IoU = ['0.0747', '0.0666', '0.0536', '0.0238']\n",
            "[INFO] 2021-07-08 23:41:28.260750 Test[42/90] Taxonomy = pieza1 Sample = pieza1background131 EDLoss = 0.7661 RLoss = 0.7990 IoU = ['0.0954', '0.1125', '0.1119', '0.0107']\n",
            "[INFO] 2021-07-08 23:41:28.292034 Test[43/90] Taxonomy = pieza1 Sample = pieza1background132 EDLoss = 0.8705 RLoss = 0.7833 IoU = ['0.0811', '0.0773', '0.0635', '0.0321']\n",
            "[INFO] 2021-07-08 23:41:28.322396 Test[44/90] Taxonomy = pieza1 Sample = pieza1background133 EDLoss = 2.0616 RLoss = 2.1240 IoU = ['0.0733', '0.0806', '0.0893', '0.1043']\n",
            "[INFO] 2021-07-08 23:41:28.353466 Test[45/90] Taxonomy = pieza1 Sample = pieza1background134 EDLoss = 2.0503 RLoss = 1.5198 IoU = ['0.0983', '0.1049', '0.1109', '0.1334']\n",
            "[INFO] 2021-07-08 23:41:28.383547 Test[46/90] Taxonomy = pieza1 Sample = pieza1background135 EDLoss = 1.1696 RLoss = 0.9559 IoU = ['0.1047', '0.1249', '0.1510', '0.1596']\n",
            "[INFO] 2021-07-08 23:41:28.413381 Test[47/90] Taxonomy = pieza1 Sample = pieza1background136 EDLoss = 0.6147 RLoss = 0.5427 IoU = ['0.1752', '0.1557', '0.0880', '0.0141']\n",
            "[INFO] 2021-07-08 23:41:28.444241 Test[48/90] Taxonomy = pieza1 Sample = pieza1background137 EDLoss = 1.0426 RLoss = 1.0246 IoU = ['0.0517', '0.0457', '0.0374', '0.0201']\n",
            "[INFO] 2021-07-08 23:41:28.474960 Test[49/90] Taxonomy = pieza1 Sample = pieza1background138 EDLoss = 0.6943 RLoss = 0.5851 IoU = ['0.2049', '0.2004', '0.1902', '0.1733']\n",
            "[INFO] 2021-07-08 23:41:28.505138 Test[50/90] Taxonomy = pieza1 Sample = pieza1background139 EDLoss = 0.5770 RLoss = 0.5854 IoU = ['0.1085', '0.0735', '0.0468', '0.0037']\n",
            "[INFO] 2021-07-08 23:41:28.536713 Test[51/90] Taxonomy = pieza1 Sample = pieza1background140 EDLoss = 1.0372 RLoss = 0.7314 IoU = ['0.1069', '0.0737', '0.0417', '0.0114']\n",
            "[INFO] 2021-07-08 23:41:28.567561 Test[52/90] Taxonomy = pieza1 Sample = pieza1background141 EDLoss = 0.6949 RLoss = 0.7519 IoU = ['0.1772', '0.1775', '0.1816', '0.1765']\n",
            "[INFO] 2021-07-08 23:41:28.601606 Test[53/90] Taxonomy = pieza1 Sample = pieza1background142 EDLoss = 0.5998 RLoss = 0.5654 IoU = ['0.1315', '0.1315', '0.1168', '0.0110']\n",
            "[INFO] 2021-07-08 23:41:28.633436 Test[54/90] Taxonomy = pieza1 Sample = pieza1background143 EDLoss = 0.9146 RLoss = 0.6863 IoU = ['0.1175', '0.1238', '0.1154', '0.0020']\n",
            "[INFO] 2021-07-08 23:41:28.664926 Test[55/90] Taxonomy = pieza1 Sample = pieza1background144 EDLoss = 0.7593 RLoss = 0.7958 IoU = ['0.0738', '0.0637', '0.0547', '0.0289']\n",
            "[INFO] 2021-07-08 23:41:28.697464 Test[56/90] Taxonomy = pieza1 Sample = pieza1background145 EDLoss = 0.5042 RLoss = 0.4693 IoU = ['0.2675', '0.2693', '0.2531', '0.1956']\n",
            "[INFO] 2021-07-08 23:41:28.727622 Test[57/90] Taxonomy = pieza1 Sample = pieza1background146 EDLoss = 3.6617 RLoss = 2.1634 IoU = ['0.0482', '0.0531', '0.0621', '0.0828']\n",
            "[INFO] 2021-07-08 23:41:28.758859 Test[58/90] Taxonomy = pieza1 Sample = pieza1background147 EDLoss = 2.6904 RLoss = 1.7606 IoU = ['0.0600', '0.0720', '0.0886', '0.1266']\n",
            "[INFO] 2021-07-08 23:41:28.788968 Test[59/90] Taxonomy = pieza1 Sample = pieza1background148 EDLoss = 0.7361 RLoss = 0.7199 IoU = ['0.0846', '0.0418', '0.0159', '0.0000']\n",
            "[INFO] 2021-07-08 23:41:28.820496 Test[60/90] Taxonomy = pieza1 Sample = pieza1background149 EDLoss = 1.8667 RLoss = 1.4215 IoU = ['0.0695', '0.0842', '0.1005', '0.1284']\n",
            "[INFO] 2021-07-08 23:41:28.850830 Test[61/90] Taxonomy = pieza2 Sample = pieza2background120 EDLoss = 0.9276 RLoss = 0.8924 IoU = ['0.0515', '0.0328', '0.0152', '0.0000']\n",
            "[INFO] 2021-07-08 23:41:28.881997 Test[62/90] Taxonomy = pieza2 Sample = pieza2background121 EDLoss = 0.7625 RLoss = 0.8445 IoU = ['0.0947', '0.0928', '0.0932', '0.0979']\n",
            "[INFO] 2021-07-08 23:41:28.912514 Test[63/90] Taxonomy = pieza2 Sample = pieza2background122 EDLoss = 0.8465 RLoss = 0.8716 IoU = ['0.2368', '0.2263', '0.1964', '0.1590']\n",
            "[INFO] 2021-07-08 23:41:28.944008 Test[64/90] Taxonomy = pieza2 Sample = pieza2background123 EDLoss = 0.5697 RLoss = 0.6281 IoU = ['0.2578', '0.2638', '0.2607', '0.2272']\n",
            "[INFO] 2021-07-08 23:41:28.974957 Test[65/90] Taxonomy = pieza2 Sample = pieza2background124 EDLoss = 2.1395 RLoss = 1.3117 IoU = ['0.0501', '0.0498', '0.0553', '0.0378']\n",
            "[INFO] 2021-07-08 23:41:29.005845 Test[66/90] Taxonomy = pieza2 Sample = pieza2background125 EDLoss = 0.6314 RLoss = 0.5512 IoU = ['0.1734', '0.1602', '0.1416', '0.0880']\n",
            "[INFO] 2021-07-08 23:41:29.037067 Test[67/90] Taxonomy = pieza2 Sample = pieza2background126 EDLoss = 0.5696 RLoss = 0.6126 IoU = ['0.2064', '0.1761', '0.1348', '0.1068']\n",
            "[INFO] 2021-07-08 23:41:29.068112 Test[68/90] Taxonomy = pieza2 Sample = pieza2background127 EDLoss = 0.7381 RLoss = 0.8029 IoU = ['0.1171', '0.0812', '0.0532', '0.0366']\n",
            "[INFO] 2021-07-08 23:41:29.099033 Test[69/90] Taxonomy = pieza2 Sample = pieza2background128 EDLoss = 0.5565 RLoss = 0.5934 IoU = ['0.2832', '0.2301', '0.1951', '0.1355']\n",
            "[INFO] 2021-07-08 23:41:29.129559 Test[70/90] Taxonomy = pieza2 Sample = pieza2background129 EDLoss = 1.1654 RLoss = 1.0496 IoU = ['0.0490', '0.0595', '0.0707', '0.0722']\n",
            "[INFO] 2021-07-08 23:41:29.161746 Test[71/90] Taxonomy = pieza2 Sample = pieza2background130 EDLoss = 0.3419 RLoss = 0.3767 IoU = ['0.3664', '0.3294', '0.2967', '0.2658']\n",
            "[INFO] 2021-07-08 23:41:29.193194 Test[72/90] Taxonomy = pieza2 Sample = pieza2background131 EDLoss = 0.5537 RLoss = 0.4613 IoU = ['0.3262', '0.2881', '0.1470', '0.0603']\n",
            "[INFO] 2021-07-08 23:41:29.225321 Test[73/90] Taxonomy = pieza2 Sample = pieza2background132 EDLoss = 0.7439 RLoss = 0.6271 IoU = ['0.2095', '0.2098', '0.2045', '0.1968']\n",
            "[INFO] 2021-07-08 23:41:29.256321 Test[74/90] Taxonomy = pieza2 Sample = pieza2background133 EDLoss = 1.4183 RLoss = 1.1693 IoU = ['0.0316', '0.0149', '0.0043', '0.0000']\n",
            "[INFO] 2021-07-08 23:41:29.288042 Test[75/90] Taxonomy = pieza2 Sample = pieza2background134 EDLoss = 1.5281 RLoss = 1.5276 IoU = ['0.0427', '0.0434', '0.0451', '0.0421']\n",
            "[INFO] 2021-07-08 23:41:29.321274 Test[76/90] Taxonomy = pieza2 Sample = pieza2background135 EDLoss = 1.3861 RLoss = 1.6423 IoU = ['0.0508', '0.0530', '0.0548', '0.0641']\n",
            "[INFO] 2021-07-08 23:41:29.352828 Test[77/90] Taxonomy = pieza2 Sample = pieza2background136 EDLoss = 1.0909 RLoss = 0.9827 IoU = ['0.0449', '0.0474', '0.0332', '0.0030']\n",
            "[INFO] 2021-07-08 23:41:29.384490 Test[78/90] Taxonomy = pieza2 Sample = pieza2background137 EDLoss = 0.4748 RLoss = 0.5331 IoU = ['0.3089', '0.2808', '0.2561', '0.1894']\n",
            "[INFO] 2021-07-08 23:41:29.416050 Test[79/90] Taxonomy = pieza2 Sample = pieza2background138 EDLoss = 0.6801 RLoss = 0.7820 IoU = ['0.0775', '0.0307', '0.0208', '0.0105']\n",
            "[INFO] 2021-07-08 23:41:29.447836 Test[80/90] Taxonomy = pieza2 Sample = pieza2background139 EDLoss = 0.7360 RLoss = 0.7761 IoU = ['0.1472', '0.1618', '0.1511', '0.0860']\n",
            "[INFO] 2021-07-08 23:41:29.478506 Test[81/90] Taxonomy = pieza2 Sample = pieza2background140 EDLoss = 0.5901 RLoss = 0.5873 IoU = ['0.1995', '0.2260', '0.2470', '0.2455']\n",
            "[INFO] 2021-07-08 23:41:29.509932 Test[82/90] Taxonomy = pieza2 Sample = pieza2background141 EDLoss = 0.7260 RLoss = 0.8226 IoU = ['0.0761', '0.0839', '0.0886', '0.0723']\n",
            "[INFO] 2021-07-08 23:41:29.540525 Test[83/90] Taxonomy = pieza2 Sample = pieza2background142 EDLoss = 0.9706 RLoss = 0.7896 IoU = ['0.1005', '0.0856', '0.0635', '0.0110']\n",
            "[INFO] 2021-07-08 23:41:29.572263 Test[84/90] Taxonomy = pieza2 Sample = pieza2background143 EDLoss = 0.8997 RLoss = 0.9347 IoU = ['0.0592', '0.0677', '0.0781', '0.0973']\n",
            "[INFO] 2021-07-08 23:41:29.603723 Test[85/90] Taxonomy = pieza2 Sample = pieza2background144 EDLoss = 0.5241 RLoss = 0.4178 IoU = ['0.3902', '0.3831', '0.3203', '0.2282']\n",
            "[INFO] 2021-07-08 23:41:29.636105 Test[86/90] Taxonomy = pieza2 Sample = pieza2background145 EDLoss = 0.5349 RLoss = 0.4111 IoU = ['0.3486', '0.3591', '0.3309', '0.2418']\n",
            "[INFO] 2021-07-08 23:41:29.667085 Test[87/90] Taxonomy = pieza2 Sample = pieza2background146 EDLoss = 5.0021 RLoss = 4.2204 IoU = ['0.0298', '0.0313', '0.0321', '0.0380']\n",
            "[INFO] 2021-07-08 23:41:29.698026 Test[88/90] Taxonomy = pieza2 Sample = pieza2background147 EDLoss = 1.8556 RLoss = 1.4022 IoU = ['0.0025', '0.0005', '0.0000', '0.0000']\n",
            "[INFO] 2021-07-08 23:41:29.728568 Test[89/90] Taxonomy = pieza2 Sample = pieza2background148 EDLoss = 0.5394 RLoss = 0.4971 IoU = ['0.2291', '0.1664', '0.1224', '0.0923']\n",
            "[INFO] 2021-07-08 23:41:29.758832 Test[90/90] Taxonomy = pieza2 Sample = pieza2background149 EDLoss = 0.4739 RLoss = 0.5172 IoU = ['0.1810', '0.1397', '0.1190', '0.0467']\n",
            "[INFO/Process-1] process shutting down\n",
            "[INFO/Process-1] process exiting with exitcode 0\n",
            "============================ TEST RESULTS ============================\n",
            "# of views : 3\n",
            "Taxonomy\t#Sample\tBaseline\tt=0.20\tt=0.30\tt=0.40\tt=0.50\t\n",
            "piezaCero\t30\t0.7320\t\t0.1136\t0.1050\t0.0957\t0.0802\t\n",
            "piezaUno\t30\t0.5450\t\t0.1182\t0.1172\t0.1117\t0.0925\t\n",
            "piezaDos\t30\t0.5930\t\t0.1581\t0.1458\t0.1277\t0.0984\t\n",
            "Overall \t\t\t\t0.1300\t0.1227\t0.1117\t0.0904\t\n",
            "\n",
            "[INFO/MainProcess] process shutting down\n"
          ],
          "name": "stdout"
        }
      ]
    },
    {
      "cell_type": "markdown",
      "metadata": {
        "id": "TvQ91-oDcsfF"
      },
      "source": [
        "###ignorar"
      ]
    },
    {
      "cell_type": "code",
      "metadata": {
        "id": "znKbErT6cw8_"
      },
      "source": [
        "!python3 runner.py --test --weights=/content/drive/MyDrive/00Pix2Vox00/Pix2Vox/output/best-ckpt.pth"
      ],
      "execution_count": null,
      "outputs": []
    },
    {
      "cell_type": "code",
      "metadata": {
        "id": "TGKsndJFgAeO"
      },
      "source": [
        "!python3 runner.py --test --weights=/content/drive/MyDrive/00Pix2Vox00/Pix2Vox/output/best-ckpt.pth"
      ],
      "execution_count": null,
      "outputs": []
    },
    {
      "cell_type": "markdown",
      "metadata": {
        "id": "-hnqMFmMuR8w"
      },
      "source": [
        "Test con imagenes reales con pesos del nuevo train:"
      ]
    },
    {
      "cell_type": "code",
      "metadata": {
        "id": "duzl-mAzuVnX"
      },
      "source": [
        "!python3 runner.py --test --weights=/content/drive/MyDrive/00Pix2Vox00/Pix2Vox/output/best-ckpt.pth"
      ],
      "execution_count": null,
      "outputs": []
    },
    {
      "cell_type": "markdown",
      "metadata": {
        "id": "hGiv10PZS5AD"
      },
      "source": [
        "## ------------TEST PESOS NUEVOS------------"
      ]
    },
    {
      "cell_type": "markdown",
      "metadata": {
        "id": "0fg60HIXaQQR"
      },
      "source": [
        "# REALES"
      ]
    },
    {
      "cell_type": "markdown",
      "metadata": {
        "id": "BoMWRMOfZ-d9"
      },
      "source": [
        "3"
      ]
    },
    {
      "cell_type": "code",
      "metadata": {
        "id": "XteH-o4wS_ip",
        "colab": {
          "base_uri": "https://localhost:8080/"
        },
        "outputId": "b716dcd7-db81-4b52-a4ba-a6a06448c056"
      },
      "source": [
        "!python3 runner.py --test --weights=/content/drive/MyDrive/00Pix2Vox00/Pix2Vox/output/best-ckpt.pth"
      ],
      "execution_count": null,
      "outputs": [
        {
          "output_type": "stream",
          "text": [
            "Use config:\n",
            "{'CONST': {'BATCH_SIZE': 64,\n",
            "           'CROP_IMG_H': 128,\n",
            "           'CROP_IMG_W': 128,\n",
            "           'DEVICE': '0',\n",
            "           'IMG_H': 224,\n",
            "           'IMG_W': 224,\n",
            "           'N_VIEWS_RENDERING': 3,\n",
            "           'N_VOX': 32,\n",
            "           'RNG_SEED': 0,\n",
            "           'WEIGHTS': '/content/drive/MyDrive/00Pix2Vox00/Pix2Vox/output/best-ckpt.pth'},\n",
            " 'DATASET': {'MEAN': [0.5, 0.5, 0.5],\n",
            "             'STD': [0.5, 0.5, 0.5],\n",
            "             'TEST_DATASET': 'ShapeNet',\n",
            "             'TRAIN_DATASET': 'ShapeNet'},\n",
            " 'DATASETS': {'SHAPENET': {'RENDERING_PATH': '/content/drive/MyDrive/00Pix2Vox00/Pix2Vox/PropioDS/DemoImage/%s/%s/rendering/%02d.png',\n",
            "                           'TAXONOMY_FILE_PATH': '/content/drive/MyDrive/00Pix2Vox00/Pix2Vox/PropioDS/REAL.json',\n",
            "                           'VOXEL_PATH': '/content/drive/MyDrive/00Pix2Vox00/Pix2Vox/PropioDS/DemoImage/%s/%s/model.binvox'}},\n",
            " 'DIR': {'OUT_PATH': './output',\n",
            "         'RANDOM_BG_PATH': '/home/hzxie/Datasets/SUN2012/JPEGImages'},\n",
            " 'NETWORK': {'LEAKY_VALUE': 0.2,\n",
            "             'TCONV_USE_BIAS': False,\n",
            "             'USE_MERGER': True,\n",
            "             'USE_REFINER': True},\n",
            " 'TEST': {'RANDOM_BG_COLOR_RANGE': [[240, 240], [240, 240], [240, 240]],\n",
            "          'VOXEL_THRESH': [0.2, 0.3, 0.4, 0.5]},\n",
            " 'TRAIN': {'BETAS': [0.9, 0.999],\n",
            "           'BRIGHTNESS': 0.4,\n",
            "           'CONTRAST': 0.4,\n",
            "           'DECODER_LEARNING_RATE': 0.001,\n",
            "           'DECODER_LR_MILESTONES': [150],\n",
            "           'ENCODER_LEARNING_RATE': 0.001,\n",
            "           'ENCODER_LR_MILESTONES': [150],\n",
            "           'EPOCH_START_USE_MERGER': 0,\n",
            "           'EPOCH_START_USE_REFINER': 0,\n",
            "           'GAMMA': 0.5,\n",
            "           'MERGER_LEARNING_RATE': 0.0001,\n",
            "           'MERGER_LR_MILESTONES': [150],\n",
            "           'MOMENTUM': 0.9,\n",
            "           'NOISE_STD': 0.1,\n",
            "           'NUM_EPOCHES': 250,\n",
            "           'NUM_WORKER': 4,\n",
            "           'POLICY': 'adam',\n",
            "           'RANDOM_BG_COLOR_RANGE': [[225, 255], [225, 255], [225, 255]],\n",
            "           'REFINER_LEARNING_RATE': 0.001,\n",
            "           'REFINER_LR_MILESTONES': [150],\n",
            "           'RESUME_TRAIN': False,\n",
            "           'SATURATION': 0.4,\n",
            "           'SAVE_FREQ': 10,\n",
            "           'UPDATE_N_VIEWS_RENDERING': False}}\n",
            "[INFO] 2021-07-08 23:09:45.121109 Collecting files of Taxonomy[ID=pieza0, Name=piezaCero]\n",
            "[INFO] 2021-07-08 23:09:46.173713 Collecting files of Taxonomy[ID=pieza1, Name=piezaUno]\n",
            "[INFO] 2021-07-08 23:09:47.057982 Collecting files of Taxonomy[ID=pieza2, Name=piezaDos]\n",
            "[INFO] 2021-07-08 23:09:48.070050 Complete collecting files of the dataset. Total files: 3.\n",
            "Downloading: \"https://download.pytorch.org/models/vgg16_bn-6c64b313.pth\" to /root/.cache/torch/hub/checkpoints/vgg16_bn-6c64b313.pth\n",
            "100% 528M/528M [00:07<00:00, 70.3MB/s]\n",
            "[INFO] 2021-07-08 23:10:10.126876 Loading weights from /content/drive/MyDrive/00Pix2Vox00/Pix2Vox/output/best-ckpt.pth ...\n",
            "[INFO/Process-1] child process calling self.run()\n",
            "[INFO/Process-1] created temp directory /tmp/pymp-zwwil3wb\n",
            "/usr/local/lib/python3.7/dist-packages/torch/nn/functional.py:718: UserWarning: Named tensors and all their associated APIs are an experimental feature and subject to change. Please do not use them for anything important until they are released as stable. (Triggered internally at  /pytorch/c10/core/TensorImpl.h:1156.)\n",
            "  return torch.max_pool2d(input, kernel_size, stride, padding, dilation, ceil_mode)\n",
            "[INFO] 2021-07-08 23:10:32.287053 Test[1/3] Taxonomy = pieza0 Sample = pieza0subfolder EDLoss = 2.1387 RLoss = 1.3591 IoU = ['0.4743', '0.4167', '0.2866', '0.1409']\n",
            "[INFO] 2021-07-08 23:10:35.458297 Test[2/3] Taxonomy = pieza1 Sample = pieza1subfolder EDLoss = 1.0787 RLoss = 0.7258 IoU = ['0.2004', '0.2221', '0.1400', '0.1214']\n",
            "[INFO] 2021-07-08 23:10:38.580609 Test[3/3] Taxonomy = pieza2 Sample = pieza2subfolder EDLoss = 1.1446 RLoss = 0.7784 IoU = ['0.2032', '0.1978', '0.2493', '0.2698']\n",
            "[INFO/Process-1] process shutting down\n",
            "[INFO/Process-1] process exiting with exitcode 0\n",
            "============================ TEST RESULTS ============================\n",
            "# of views : 3\n",
            "Taxonomy\t#Sample\tBaseline\tt=0.20\tt=0.30\tt=0.40\tt=0.50\t\n",
            "piezaCero\t1\t0.7320\t\t0.4743\t0.4167\t0.2866\t0.1409\t\n",
            "piezaUno\t1\t0.5450\t\t0.2004\t0.2221\t0.1400\t0.1214\t\n",
            "piezaDos\t1\t0.5930\t\t0.2032\t0.1978\t0.2493\t0.2698\t\n",
            "Overall \t\t\t\t0.2926\t0.2789\t0.2253\t0.1774\t\n",
            "\n",
            "[INFO/MainProcess] process shutting down\n"
          ],
          "name": "stdout"
        }
      ]
    },
    {
      "cell_type": "markdown",
      "metadata": {
        "id": "BWIK3ghKZ_Ks"
      },
      "source": [
        "2"
      ]
    },
    {
      "cell_type": "code",
      "metadata": {
        "colab": {
          "base_uri": "https://localhost:8080/"
        },
        "id": "d-s_LYT2aACW",
        "outputId": "3cde7508-5705-4df3-afd9-f09bfd48e8c7"
      },
      "source": [
        "!python3 runner.py --test --weights=/content/drive/MyDrive/00Pix2Vox00/Pix2Vox/output/best-ckpt.pth"
      ],
      "execution_count": null,
      "outputs": [
        {
          "output_type": "stream",
          "text": [
            "Use config:\n",
            "{'CONST': {'BATCH_SIZE': 64,\n",
            "           'CROP_IMG_H': 128,\n",
            "           'CROP_IMG_W': 128,\n",
            "           'DEVICE': '0',\n",
            "           'IMG_H': 224,\n",
            "           'IMG_W': 224,\n",
            "           'N_VIEWS_RENDERING': 2,\n",
            "           'N_VOX': 32,\n",
            "           'RNG_SEED': 0,\n",
            "           'WEIGHTS': '/content/drive/MyDrive/00Pix2Vox00/Pix2Vox/output/best-ckpt.pth'},\n",
            " 'DATASET': {'MEAN': [0.5, 0.5, 0.5],\n",
            "             'STD': [0.5, 0.5, 0.5],\n",
            "             'TEST_DATASET': 'ShapeNet',\n",
            "             'TRAIN_DATASET': 'ShapeNet'},\n",
            " 'DATASETS': {'SHAPENET': {'RENDERING_PATH': '/content/drive/MyDrive/00Pix2Vox00/Pix2Vox/PropioDS/DemoImage/%s/%s/rendering/%02d.png',\n",
            "                           'TAXONOMY_FILE_PATH': '/content/drive/MyDrive/00Pix2Vox00/Pix2Vox/PropioDS/REAL.json',\n",
            "                           'VOXEL_PATH': '/content/drive/MyDrive/00Pix2Vox00/Pix2Vox/PropioDS/DemoImage/%s/%s/model.binvox'}},\n",
            " 'DIR': {'OUT_PATH': './output',\n",
            "         'RANDOM_BG_PATH': '/home/hzxie/Datasets/SUN2012/JPEGImages'},\n",
            " 'NETWORK': {'LEAKY_VALUE': 0.2,\n",
            "             'TCONV_USE_BIAS': False,\n",
            "             'USE_MERGER': True,\n",
            "             'USE_REFINER': True},\n",
            " 'TEST': {'RANDOM_BG_COLOR_RANGE': [[240, 240], [240, 240], [240, 240]],\n",
            "          'VOXEL_THRESH': [0.2, 0.3, 0.4, 0.5]},\n",
            " 'TRAIN': {'BETAS': [0.9, 0.999],\n",
            "           'BRIGHTNESS': 0.4,\n",
            "           'CONTRAST': 0.4,\n",
            "           'DECODER_LEARNING_RATE': 0.001,\n",
            "           'DECODER_LR_MILESTONES': [150],\n",
            "           'ENCODER_LEARNING_RATE': 0.001,\n",
            "           'ENCODER_LR_MILESTONES': [150],\n",
            "           'EPOCH_START_USE_MERGER': 0,\n",
            "           'EPOCH_START_USE_REFINER': 0,\n",
            "           'GAMMA': 0.5,\n",
            "           'MERGER_LEARNING_RATE': 0.0001,\n",
            "           'MERGER_LR_MILESTONES': [150],\n",
            "           'MOMENTUM': 0.9,\n",
            "           'NOISE_STD': 0.1,\n",
            "           'NUM_EPOCHES': 250,\n",
            "           'NUM_WORKER': 4,\n",
            "           'POLICY': 'adam',\n",
            "           'RANDOM_BG_COLOR_RANGE': [[225, 255], [225, 255], [225, 255]],\n",
            "           'REFINER_LEARNING_RATE': 0.001,\n",
            "           'REFINER_LR_MILESTONES': [150],\n",
            "           'RESUME_TRAIN': False,\n",
            "           'SATURATION': 0.4,\n",
            "           'SAVE_FREQ': 10,\n",
            "           'UPDATE_N_VIEWS_RENDERING': False}}\n",
            "[INFO] 2021-07-08 23:16:05.917802 Collecting files of Taxonomy[ID=pieza0, Name=piezaCero]\n",
            "[INFO] 2021-07-08 23:16:05.920321 Collecting files of Taxonomy[ID=pieza1, Name=piezaUno]\n",
            "[INFO] 2021-07-08 23:16:05.922221 Collecting files of Taxonomy[ID=pieza2, Name=piezaDos]\n",
            "[INFO] 2021-07-08 23:16:05.924240 Complete collecting files of the dataset. Total files: 3.\n",
            "[INFO] 2021-07-08 23:16:11.305261 Loading weights from /content/drive/MyDrive/00Pix2Vox00/Pix2Vox/output/best-ckpt.pth ...\n",
            "[INFO/Process-1] child process calling self.run()\n",
            "[INFO/Process-1] created temp directory /tmp/pymp-brfbxh6u\n",
            "/usr/local/lib/python3.7/dist-packages/torch/nn/functional.py:718: UserWarning: Named tensors and all their associated APIs are an experimental feature and subject to change. Please do not use them for anything important until they are released as stable. (Triggered internally at  /pytorch/c10/core/TensorImpl.h:1156.)\n",
            "  return torch.max_pool2d(input, kernel_size, stride, padding, dilation, ceil_mode)\n",
            "[INFO] 2021-07-08 23:16:18.813344 Test[1/3] Taxonomy = pieza0 Sample = pieza0subfolder EDLoss = 2.1616 RLoss = 1.3700 IoU = ['0.4681', '0.4118', '0.2951', '0.1495']\n",
            "[INFO] 2021-07-08 23:16:22.045830 Test[2/3] Taxonomy = pieza1 Sample = pieza1subfolder EDLoss = 1.0783 RLoss = 0.7266 IoU = ['0.2001', '0.2190', '0.1405', '0.1221']\n",
            "[INFO] 2021-07-08 23:16:25.092706 Test[3/3] Taxonomy = pieza2 Sample = pieza2subfolder EDLoss = 1.1522 RLoss = 0.7838 IoU = ['0.2033', '0.1993', '0.2432', '0.2698']\n",
            "[INFO/Process-1] process shutting down\n",
            "[INFO/Process-1] process exiting with exitcode 0\n",
            "============================ TEST RESULTS ============================\n",
            "# of views : 2\n",
            "Taxonomy\t#Sample\tBaseline\tt=0.20\tt=0.30\tt=0.40\tt=0.50\t\n",
            "piezaCero\t1\t0.7170\t\t0.4681\t0.4118\t0.2951\t0.1495\t\n",
            "piezaUno\t1\t0.5270\t\t0.2001\t0.2190\t0.1405\t0.1221\t\n",
            "piezaDos\t1\t0.5820\t\t0.2033\t0.1993\t0.2432\t0.2698\t\n",
            "Overall \t\t\t\t0.2905\t0.2767\t0.2262\t0.1805\t\n",
            "\n",
            "[INFO/MainProcess] process shutting down\n"
          ],
          "name": "stdout"
        }
      ]
    },
    {
      "cell_type": "markdown",
      "metadata": {
        "id": "8j-498djZ_nq"
      },
      "source": [
        "1"
      ]
    },
    {
      "cell_type": "code",
      "metadata": {
        "colab": {
          "base_uri": "https://localhost:8080/"
        },
        "id": "StkG2BpNaAac",
        "outputId": "87ee23a3-c336-4d6d-d1f1-d848b8ef7bf5"
      },
      "source": [
        "!python3 runner.py --test --weights=/content/drive/MyDrive/00Pix2Vox00/Pix2Vox/output/best-ckpt.pth"
      ],
      "execution_count": null,
      "outputs": [
        {
          "output_type": "stream",
          "text": [
            "Use config:\n",
            "{'CONST': {'BATCH_SIZE': 64,\n",
            "           'CROP_IMG_H': 128,\n",
            "           'CROP_IMG_W': 128,\n",
            "           'DEVICE': '0',\n",
            "           'IMG_H': 224,\n",
            "           'IMG_W': 224,\n",
            "           'N_VIEWS_RENDERING': 1,\n",
            "           'N_VOX': 32,\n",
            "           'RNG_SEED': 0,\n",
            "           'WEIGHTS': '/content/drive/MyDrive/00Pix2Vox00/Pix2Vox/output/best-ckpt.pth'},\n",
            " 'DATASET': {'MEAN': [0.5, 0.5, 0.5],\n",
            "             'STD': [0.5, 0.5, 0.5],\n",
            "             'TEST_DATASET': 'ShapeNet',\n",
            "             'TRAIN_DATASET': 'ShapeNet'},\n",
            " 'DATASETS': {'SHAPENET': {'RENDERING_PATH': '/content/drive/MyDrive/00Pix2Vox00/Pix2Vox/PropioDS/DemoImage/%s/%s/rendering/%02d.png',\n",
            "                           'TAXONOMY_FILE_PATH': '/content/drive/MyDrive/00Pix2Vox00/Pix2Vox/PropioDS/REAL.json',\n",
            "                           'VOXEL_PATH': '/content/drive/MyDrive/00Pix2Vox00/Pix2Vox/PropioDS/DemoImage/%s/%s/model.binvox'}},\n",
            " 'DIR': {'OUT_PATH': './output',\n",
            "         'RANDOM_BG_PATH': '/home/hzxie/Datasets/SUN2012/JPEGImages'},\n",
            " 'NETWORK': {'LEAKY_VALUE': 0.2,\n",
            "             'TCONV_USE_BIAS': False,\n",
            "             'USE_MERGER': True,\n",
            "             'USE_REFINER': True},\n",
            " 'TEST': {'RANDOM_BG_COLOR_RANGE': [[240, 240], [240, 240], [240, 240]],\n",
            "          'VOXEL_THRESH': [0.2, 0.3, 0.4, 0.5]},\n",
            " 'TRAIN': {'BETAS': [0.9, 0.999],\n",
            "           'BRIGHTNESS': 0.4,\n",
            "           'CONTRAST': 0.4,\n",
            "           'DECODER_LEARNING_RATE': 0.001,\n",
            "           'DECODER_LR_MILESTONES': [150],\n",
            "           'ENCODER_LEARNING_RATE': 0.001,\n",
            "           'ENCODER_LR_MILESTONES': [150],\n",
            "           'EPOCH_START_USE_MERGER': 0,\n",
            "           'EPOCH_START_USE_REFINER': 0,\n",
            "           'GAMMA': 0.5,\n",
            "           'MERGER_LEARNING_RATE': 0.0001,\n",
            "           'MERGER_LR_MILESTONES': [150],\n",
            "           'MOMENTUM': 0.9,\n",
            "           'NOISE_STD': 0.1,\n",
            "           'NUM_EPOCHES': 250,\n",
            "           'NUM_WORKER': 4,\n",
            "           'POLICY': 'adam',\n",
            "           'RANDOM_BG_COLOR_RANGE': [[225, 255], [225, 255], [225, 255]],\n",
            "           'REFINER_LEARNING_RATE': 0.001,\n",
            "           'REFINER_LR_MILESTONES': [150],\n",
            "           'RESUME_TRAIN': False,\n",
            "           'SATURATION': 0.4,\n",
            "           'SAVE_FREQ': 10,\n",
            "           'UPDATE_N_VIEWS_RENDERING': False}}\n",
            "[INFO] 2021-07-08 23:16:56.820873 Collecting files of Taxonomy[ID=pieza0, Name=piezaCero]\n",
            "[INFO] 2021-07-08 23:16:56.822820 Collecting files of Taxonomy[ID=pieza1, Name=piezaUno]\n",
            "[INFO] 2021-07-08 23:16:56.824781 Collecting files of Taxonomy[ID=pieza2, Name=piezaDos]\n",
            "[INFO] 2021-07-08 23:16:56.826558 Complete collecting files of the dataset. Total files: 3.\n",
            "[INFO] 2021-07-08 23:17:02.180962 Loading weights from /content/drive/MyDrive/00Pix2Vox00/Pix2Vox/output/best-ckpt.pth ...\n",
            "[INFO/Process-1] child process calling self.run()\n",
            "[INFO/Process-1] created temp directory /tmp/pymp-x8nmooim\n",
            "/usr/local/lib/python3.7/dist-packages/torch/nn/functional.py:718: UserWarning: Named tensors and all their associated APIs are an experimental feature and subject to change. Please do not use them for anything important until they are released as stable. (Triggered internally at  /pytorch/c10/core/TensorImpl.h:1156.)\n",
            "  return torch.max_pool2d(input, kernel_size, stride, padding, dilation, ceil_mode)\n",
            "[INFO] 2021-07-08 23:17:09.728419 Test[1/3] Taxonomy = pieza0 Sample = pieza0subfolder EDLoss = 2.2140 RLoss = 1.3908 IoU = ['0.4691', '0.4249', '0.3215', '0.1706']\n",
            "[INFO] 2021-07-08 23:17:12.755129 Test[2/3] Taxonomy = pieza1 Sample = pieza1subfolder EDLoss = 1.0759 RLoss = 0.7213 IoU = ['0.2016', '0.2172', '0.1335', '0.0983']\n",
            "[INFO] 2021-07-08 23:17:15.728011 Test[3/3] Taxonomy = pieza2 Sample = pieza2subfolder EDLoss = 1.1483 RLoss = 0.7812 IoU = ['0.2032', '0.1990', '0.2478', '0.2698']\n",
            "[INFO/Process-1] process shutting down\n",
            "[INFO/Process-1] process exiting with exitcode 0\n",
            "============================ TEST RESULTS ============================\n",
            "# of views : 1\n",
            "Taxonomy\t#Sample\tBaseline\tt=0.20\tt=0.30\tt=0.40\tt=0.50\t\n",
            "piezaCero\t1\t0.6610\t\t0.4691\t0.4249\t0.3215\t0.1706\t\n",
            "piezaUno\t1\t0.4680\t\t0.2016\t0.2172\t0.1335\t0.0983\t\n",
            "piezaDos\t1\t0.5440\t\t0.2032\t0.1990\t0.2478\t0.2698\t\n",
            "Overall \t\t\t\t0.2913\t0.2804\t0.2343\t0.1796\t\n",
            "\n",
            "[INFO/MainProcess] process shutting down\n"
          ],
          "name": "stdout"
        }
      ]
    },
    {
      "cell_type": "markdown",
      "metadata": {
        "id": "Eziutt6Uah0K"
      },
      "source": [
        "# SINTETICA"
      ]
    },
    {
      "cell_type": "markdown",
      "metadata": {
        "id": "S5Q93h_jaloW"
      },
      "source": [
        "3"
      ]
    },
    {
      "cell_type": "code",
      "metadata": {
        "colab": {
          "base_uri": "https://localhost:8080/"
        },
        "id": "pZi7t63Mahgm",
        "outputId": "011b1a54-bd68-4e2c-b122-386b097f7106"
      },
      "source": [
        "!python3 runner.py --test --weights=/content/drive/MyDrive/00Pix2Vox00/Pix2Vox/output/best-ckpt.pth"
      ],
      "execution_count": null,
      "outputs": [
        {
          "output_type": "stream",
          "text": [
            "Use config:\n",
            "{'CONST': {'BATCH_SIZE': 64,\n",
            "           'CROP_IMG_H': 128,\n",
            "           'CROP_IMG_W': 128,\n",
            "           'DEVICE': '0',\n",
            "           'IMG_H': 224,\n",
            "           'IMG_W': 224,\n",
            "           'N_VIEWS_RENDERING': 3,\n",
            "           'N_VOX': 32,\n",
            "           'RNG_SEED': 0,\n",
            "           'WEIGHTS': '/content/drive/MyDrive/00Pix2Vox00/Pix2Vox/output/best-ckpt.pth'},\n",
            " 'DATASET': {'MEAN': [0.5, 0.5, 0.5],\n",
            "             'STD': [0.5, 0.5, 0.5],\n",
            "             'TEST_DATASET': 'ShapeNet',\n",
            "             'TRAIN_DATASET': 'ShapeNet'},\n",
            " 'DATASETS': {'SHAPENET': {'RENDERING_PATH': '/content/drive/MyDrive/00Pix2Vox00/Pix2Vox/PropioDS/images/%s/%s/rendering/%02d.png',\n",
            "                           'TAXONOMY_FILE_PATH': '/content/drive/MyDrive/00Pix2Vox00/Pix2Vox/PropioDS/MODS.json',\n",
            "                           'VOXEL_PATH': '/content/drive/MyDrive/00Pix2Vox00/Pix2Vox/PropioDS/images/%s/%s/model.binvox'}},\n",
            " 'DIR': {'OUT_PATH': './output',\n",
            "         'RANDOM_BG_PATH': '/home/hzxie/Datasets/SUN2012/JPEGImages'},\n",
            " 'NETWORK': {'LEAKY_VALUE': 0.2,\n",
            "             'TCONV_USE_BIAS': False,\n",
            "             'USE_MERGER': True,\n",
            "             'USE_REFINER': True},\n",
            " 'TEST': {'RANDOM_BG_COLOR_RANGE': [[240, 240], [240, 240], [240, 240]],\n",
            "          'VOXEL_THRESH': [0.2, 0.3, 0.4, 0.5]},\n",
            " 'TRAIN': {'BETAS': [0.9, 0.999],\n",
            "           'BRIGHTNESS': 0.4,\n",
            "           'CONTRAST': 0.4,\n",
            "           'DECODER_LEARNING_RATE': 0.001,\n",
            "           'DECODER_LR_MILESTONES': [150],\n",
            "           'ENCODER_LEARNING_RATE': 0.001,\n",
            "           'ENCODER_LR_MILESTONES': [150],\n",
            "           'EPOCH_START_USE_MERGER': 0,\n",
            "           'EPOCH_START_USE_REFINER': 0,\n",
            "           'GAMMA': 0.5,\n",
            "           'MERGER_LEARNING_RATE': 0.0001,\n",
            "           'MERGER_LR_MILESTONES': [150],\n",
            "           'MOMENTUM': 0.9,\n",
            "           'NOISE_STD': 0.1,\n",
            "           'NUM_EPOCHES': 250,\n",
            "           'NUM_WORKER': 4,\n",
            "           'POLICY': 'adam',\n",
            "           'RANDOM_BG_COLOR_RANGE': [[225, 255], [225, 255], [225, 255]],\n",
            "           'REFINER_LEARNING_RATE': 0.001,\n",
            "           'REFINER_LR_MILESTONES': [150],\n",
            "           'RESUME_TRAIN': False,\n",
            "           'SATURATION': 0.4,\n",
            "           'SAVE_FREQ': 10,\n",
            "           'UPDATE_N_VIEWS_RENDERING': False}}\n",
            "[INFO] 2021-07-08 23:27:40.483107 Collecting files of Taxonomy[ID=pieza0, Name=piezaCero]\n",
            "[INFO] 2021-07-08 23:27:59.193503 Collecting files of Taxonomy[ID=pieza1, Name=piezaUno]\n",
            "[INFO] 2021-07-08 23:28:16.573516 Collecting files of Taxonomy[ID=pieza2, Name=piezaDos]\n",
            "[INFO] 2021-07-08 23:28:33.060742 Complete collecting files of the dataset. Total files: 90.\n",
            "[INFO] 2021-07-08 23:28:38.368139 Loading weights from /content/drive/MyDrive/00Pix2Vox00/Pix2Vox/output/best-ckpt.pth ...\n",
            "[INFO/Process-1] child process calling self.run()\n",
            "[INFO/Process-1] created temp directory /tmp/pymp-yqgtgsg5\n",
            "/usr/local/lib/python3.7/dist-packages/torch/nn/functional.py:718: UserWarning: Named tensors and all their associated APIs are an experimental feature and subject to change. Please do not use them for anything important until they are released as stable. (Triggered internally at  /pytorch/c10/core/TensorImpl.h:1156.)\n",
            "  return torch.max_pool2d(input, kernel_size, stride, padding, dilation, ceil_mode)\n",
            "[INFO] 2021-07-08 23:28:46.504508 Test[1/90] Taxonomy = pieza0 Sample = pieza0background120 EDLoss = 1.8945 RLoss = 1.2379 IoU = ['0.4827', '0.4165', '0.1479', '0.1090']\n",
            "[INFO] 2021-07-08 23:28:51.587257 Test[2/90] Taxonomy = pieza0 Sample = pieza0background121 EDLoss = 1.8843 RLoss = 1.2193 IoU = ['0.4834', '0.4665', '0.1984', '0.1177']\n",
            "[INFO] 2021-07-08 23:28:56.650724 Test[3/90] Taxonomy = pieza0 Sample = pieza0background122 EDLoss = 1.8965 RLoss = 1.2443 IoU = ['0.4824', '0.3874', '0.1378', '0.1052']\n",
            "[INFO] 2021-07-08 23:28:56.704933 Test[4/90] Taxonomy = pieza0 Sample = pieza0background123 EDLoss = 1.8835 RLoss = 1.2153 IoU = ['0.4829', '0.4740', '0.2305', '0.1189']\n",
            "[INFO] 2021-07-08 23:28:56.757655 Test[5/90] Taxonomy = pieza0 Sample = pieza0background124 EDLoss = 1.8874 RLoss = 1.2288 IoU = ['0.4824', '0.4464', '0.1571', '0.1139']\n",
            "[INFO] 2021-07-08 23:28:57.592583 Test[6/90] Taxonomy = pieza0 Sample = pieza0background125 EDLoss = 1.8823 RLoss = 1.2235 IoU = ['0.4827', '0.4569', '0.1694', '0.1164']\n",
            "[INFO] 2021-07-08 23:28:58.489149 Test[7/90] Taxonomy = pieza0 Sample = pieza0background126 EDLoss = 1.8831 RLoss = 1.2260 IoU = ['0.4827', '0.4518', '0.1581', '0.1146']\n",
            "[INFO] 2021-07-08 23:28:59.358038 Test[8/90] Taxonomy = pieza0 Sample = pieza0background127 EDLoss = 1.8840 RLoss = 1.2266 IoU = ['0.4824', '0.4476', '0.1591', '0.1146']\n",
            "[INFO] 2021-07-08 23:29:00.221034 Test[9/90] Taxonomy = pieza0 Sample = pieza0background128 EDLoss = 1.8897 RLoss = 1.2332 IoU = ['0.4829', '0.4294', '0.1499', '0.1133']\n",
            "[INFO] 2021-07-08 23:29:01.199601 Test[10/90] Taxonomy = pieza0 Sample = pieza0background129 EDLoss = 1.8899 RLoss = 1.2373 IoU = ['0.4829', '0.4120', '0.1422', '0.1090']\n",
            "[INFO] 2021-07-08 23:29:02.128173 Test[11/90] Taxonomy = pieza0 Sample = pieza0background130 EDLoss = 1.8825 RLoss = 1.2165 IoU = ['0.4832', '0.4708', '0.2122', '0.1189']\n",
            "[INFO] 2021-07-08 23:29:03.030454 Test[12/90] Taxonomy = pieza0 Sample = pieza0background131 EDLoss = 1.8930 RLoss = 1.2262 IoU = ['0.4834', '0.4583', '0.1899', '0.1152']\n",
            "[INFO] 2021-07-08 23:29:03.879933 Test[13/90] Taxonomy = pieza0 Sample = pieza0background132 EDLoss = 1.8865 RLoss = 1.2317 IoU = ['0.4829', '0.4322', '0.1488', '0.1121']\n",
            "[INFO] 2021-07-08 23:29:04.715807 Test[14/90] Taxonomy = pieza0 Sample = pieza0background133 EDLoss = 1.8920 RLoss = 1.2390 IoU = ['0.4829', '0.4012', '0.1456', '0.1102']\n",
            "[INFO] 2021-07-08 23:29:05.608366 Test[15/90] Taxonomy = pieza0 Sample = pieza0background134 EDLoss = 1.8881 RLoss = 1.2238 IoU = ['0.4834', '0.4613', '0.1893', '0.1171']\n",
            "[INFO] 2021-07-08 23:29:06.469253 Test[16/90] Taxonomy = pieza0 Sample = pieza0background135 EDLoss = 1.8806 RLoss = 1.2177 IoU = ['0.4829', '0.4708', '0.1920', '0.1183']\n",
            "[INFO] 2021-07-08 23:29:07.410991 Test[17/90] Taxonomy = pieza0 Sample = pieza0background136 EDLoss = 1.8928 RLoss = 1.2462 IoU = ['0.4829', '0.3700', '0.1392', '0.1040']\n",
            "[INFO] 2021-07-08 23:29:08.321522 Test[18/90] Taxonomy = pieza0 Sample = pieza0background137 EDLoss = 1.8949 RLoss = 1.2502 IoU = ['0.4819', '0.3440', '0.1355', '0.0996']\n",
            "[INFO] 2021-07-08 23:29:09.238272 Test[19/90] Taxonomy = pieza0 Sample = pieza0background138 EDLoss = 1.8812 RLoss = 1.2195 IoU = ['0.4829', '0.4673', '0.1798', '0.1183']\n",
            "[INFO] 2021-07-08 23:29:10.105115 Test[20/90] Taxonomy = pieza0 Sample = pieza0background139 EDLoss = 1.8867 RLoss = 1.2302 IoU = ['0.4829', '0.4390', '0.1531', '0.1121']\n",
            "[INFO] 2021-07-08 23:29:11.031548 Test[21/90] Taxonomy = pieza0 Sample = pieza0background140 EDLoss = 1.8963 RLoss = 1.2510 IoU = ['0.4824', '0.3425', '0.1337', '0.0984']\n",
            "[INFO] 2021-07-08 23:29:11.913049 Test[22/90] Taxonomy = pieza0 Sample = pieza0background141 EDLoss = 1.8865 RLoss = 1.2340 IoU = ['0.4827', '0.4189', '0.1475', '0.1121']\n",
            "[INFO] 2021-07-08 23:29:12.770156 Test[23/90] Taxonomy = pieza0 Sample = pieza0background142 EDLoss = 1.8916 RLoss = 1.2297 IoU = ['0.4829', '0.4440', '0.1659', '0.1139']\n",
            "[INFO] 2021-07-08 23:29:13.706955 Test[24/90] Taxonomy = pieza0 Sample = pieza0background143 EDLoss = 1.8896 RLoss = 1.2328 IoU = ['0.4824', '0.4333', '0.1461', '0.1115']\n",
            "[INFO] 2021-07-08 23:29:14.656860 Test[25/90] Taxonomy = pieza0 Sample = pieza0background144 EDLoss = 1.9056 RLoss = 1.2288 IoU = ['0.4837', '0.4565', '0.2318', '0.1202']\n",
            "[INFO] 2021-07-08 23:29:15.546735 Test[26/90] Taxonomy = pieza0 Sample = pieza0background145 EDLoss = 1.8799 RLoss = 1.2180 IoU = ['0.4829', '0.4683', '0.1916', '0.1164']\n",
            "[INFO] 2021-07-08 23:29:16.483889 Test[27/90] Taxonomy = pieza0 Sample = pieza0background146 EDLoss = 1.9034 RLoss = 1.2286 IoU = ['0.4837', '0.4647', '0.2095', '0.1202']\n",
            "[INFO] 2021-07-08 23:29:17.462821 Test[28/90] Taxonomy = pieza0 Sample = pieza0background147 EDLoss = 1.8926 RLoss = 1.2409 IoU = ['0.4829', '0.3982', '0.1419', '0.1071']\n",
            "[INFO] 2021-07-08 23:29:18.465347 Test[29/90] Taxonomy = pieza0 Sample = pieza0background148 EDLoss = 1.9156 RLoss = 1.2363 IoU = ['0.4834', '0.4527', '0.2195', '0.1184']\n",
            "[INFO] 2021-07-08 23:29:19.333000 Test[30/90] Taxonomy = pieza0 Sample = pieza0background149 EDLoss = 1.8920 RLoss = 1.2389 IoU = ['0.4829', '0.4084', '0.1400', '0.1090']\n",
            "[INFO] 2021-07-08 23:29:20.290143 Test[31/90] Taxonomy = pieza1 Sample = pieza1background120 EDLoss = 1.1031 RLoss = 0.7474 IoU = ['0.1996', '0.2142', '0.1570', '0.1336']\n",
            "[INFO] 2021-07-08 23:29:21.203395 Test[32/90] Taxonomy = pieza1 Sample = pieza1background121 EDLoss = 1.1091 RLoss = 0.7571 IoU = ['0.1994', '0.2012', '0.1573', '0.1308']\n",
            "[INFO] 2021-07-08 23:29:22.059258 Test[33/90] Taxonomy = pieza1 Sample = pieza1background122 EDLoss = 1.0745 RLoss = 0.7256 IoU = ['0.1999', '0.2257', '0.1374', '0.1221']\n",
            "[INFO] 2021-07-08 23:29:23.000976 Test[34/90] Taxonomy = pieza1 Sample = pieza1background123 EDLoss = 1.1284 RLoss = 0.7696 IoU = ['0.1995', '0.1977', '0.1815', '0.1306']\n",
            "[INFO] 2021-07-08 23:29:23.886214 Test[35/90] Taxonomy = pieza1 Sample = pieza1background124 EDLoss = 1.0795 RLoss = 0.7313 IoU = ['0.1991', '0.2172', '0.1411', '0.1260']\n",
            "[INFO] 2021-07-08 23:29:24.756013 Test[36/90] Taxonomy = pieza1 Sample = pieza1background125 EDLoss = 1.0869 RLoss = 0.7394 IoU = ['0.1991', '0.2079', '0.1577', '0.1297']\n",
            "[INFO] 2021-07-08 23:29:25.624043 Test[37/90] Taxonomy = pieza1 Sample = pieza1background126 EDLoss = 1.0779 RLoss = 0.7322 IoU = ['0.1991', '0.2123', '0.1441', '0.1266']\n",
            "[INFO] 2021-07-08 23:29:26.520380 Test[38/90] Taxonomy = pieza1 Sample = pieza1background127 EDLoss = 1.0847 RLoss = 0.7382 IoU = ['0.1991', '0.2083', '0.1499', '0.1306']\n",
            "[INFO] 2021-07-08 23:29:27.414291 Test[39/90] Taxonomy = pieza1 Sample = pieza1background128 EDLoss = 1.0740 RLoss = 0.7257 IoU = ['0.1997', '0.2251', '0.1359', '0.1273']\n",
            "[INFO] 2021-07-08 23:29:28.389460 Test[40/90] Taxonomy = pieza1 Sample = pieza1background129 EDLoss = 1.0759 RLoss = 0.7287 IoU = ['0.1994', '0.2193', '0.1392', '0.1271']\n",
            "[INFO] 2021-07-08 23:29:29.331117 Test[41/90] Taxonomy = pieza1 Sample = pieza1background130 EDLoss = 1.0948 RLoss = 0.7463 IoU = ['0.1990', '0.2022', '0.1587', '0.1284']\n",
            "[INFO] 2021-07-08 23:29:30.249534 Test[42/90] Taxonomy = pieza1 Sample = pieza1background131 EDLoss = 1.1068 RLoss = 0.7533 IoU = ['0.1994', '0.2040', '0.1609', '0.1318']\n",
            "[INFO] 2021-07-08 23:29:31.091468 Test[43/90] Taxonomy = pieza1 Sample = pieza1background132 EDLoss = 1.0859 RLoss = 0.7387 IoU = ['0.1991', '0.2067', '0.1479', '0.1311']\n",
            "[INFO] 2021-07-08 23:29:32.102061 Test[44/90] Taxonomy = pieza1 Sample = pieza1background133 EDLoss = 1.0749 RLoss = 0.7270 IoU = ['0.1995', '0.2212', '0.1348', '0.1285']\n",
            "[INFO] 2021-07-08 23:29:33.037442 Test[45/90] Taxonomy = pieza1 Sample = pieza1background134 EDLoss = 1.0924 RLoss = 0.7424 IoU = ['0.1995', '0.2075', '0.1555', '0.1325']\n",
            "[INFO] 2021-07-08 23:29:33.964738 Test[46/90] Taxonomy = pieza1 Sample = pieza1background135 EDLoss = 1.1014 RLoss = 0.7523 IoU = ['0.1995', '0.2013', '0.1576', '0.1308']\n",
            "[INFO] 2021-07-08 23:29:34.874346 Test[47/90] Taxonomy = pieza1 Sample = pieza1background136 EDLoss = 1.0759 RLoss = 0.7296 IoU = ['0.1991', '0.2156', '0.1420', '0.1240']\n",
            "[INFO] 2021-07-08 23:29:35.706159 Test[48/90] Taxonomy = pieza1 Sample = pieza1background137 EDLoss = 1.0655 RLoss = 0.7179 IoU = ['0.2008', '0.2248', '0.1343', '0.1168']\n",
            "[INFO] 2021-07-08 23:29:36.585222 Test[49/90] Taxonomy = pieza1 Sample = pieza1background138 EDLoss = 1.0869 RLoss = 0.7405 IoU = ['0.1990', '0.2068', '0.1545', '0.1288']\n",
            "[INFO] 2021-07-08 23:29:37.494235 Test[50/90] Taxonomy = pieza1 Sample = pieza1background139 EDLoss = 1.0795 RLoss = 0.7329 IoU = ['0.1991', '0.2155', '0.1435', '0.1285']\n",
            "[INFO] 2021-07-08 23:29:38.379327 Test[51/90] Taxonomy = pieza1 Sample = pieza1background140 EDLoss = 1.0740 RLoss = 0.7243 IoU = ['0.2003', '0.2258', '0.1369', '0.1244']\n",
            "[INFO] 2021-07-08 23:29:39.333061 Test[52/90] Taxonomy = pieza1 Sample = pieza1background141 EDLoss = 1.0805 RLoss = 0.7341 IoU = ['0.1990', '0.2106', '0.1414', '0.1244']\n",
            "[INFO] 2021-07-08 23:29:40.245481 Test[53/90] Taxonomy = pieza1 Sample = pieza1background142 EDLoss = 1.0840 RLoss = 0.7350 IoU = ['0.1991', '0.2197', '0.1414', '0.1328']\n",
            "[INFO] 2021-07-08 23:29:41.260775 Test[54/90] Taxonomy = pieza1 Sample = pieza1background143 EDLoss = 1.0874 RLoss = 0.7383 IoU = ['0.1991', '0.2123', '0.1511', '0.1299']\n",
            "[INFO] 2021-07-08 23:29:42.331967 Test[55/90] Taxonomy = pieza1 Sample = pieza1background144 EDLoss = 1.1496 RLoss = 0.7787 IoU = ['0.1994', '0.1996', '0.1692', '0.1308']\n",
            "[INFO] 2021-07-08 23:29:43.256652 Test[56/90] Taxonomy = pieza1 Sample = pieza1background145 EDLoss = 1.0996 RLoss = 0.7510 IoU = ['0.1996', '0.2003', '0.1656', '0.1296']\n",
            "[INFO] 2021-07-08 23:29:44.209787 Test[57/90] Taxonomy = pieza1 Sample = pieza1background146 EDLoss = 1.0949 RLoss = 0.7428 IoU = ['0.1995', '0.2114', '0.1514', '0.1311']\n",
            "[INFO] 2021-07-08 23:29:45.133483 Test[58/90] Taxonomy = pieza1 Sample = pieza1background147 EDLoss = 1.0738 RLoss = 0.7253 IoU = ['0.1999', '0.2222', '0.1361', '0.1254']\n",
            "[INFO] 2021-07-08 23:29:46.053875 Test[59/90] Taxonomy = pieza1 Sample = pieza1background148 EDLoss = 1.1750 RLoss = 0.7902 IoU = ['0.1988', '0.2014', '0.1690', '0.1316']\n",
            "[INFO] 2021-07-08 23:29:47.052344 Test[60/90] Taxonomy = pieza1 Sample = pieza1background149 EDLoss = 1.0795 RLoss = 0.7309 IoU = ['0.1991', '0.2149', '0.1344', '0.1250']\n",
            "[INFO] 2021-07-08 23:29:48.087064 Test[61/90] Taxonomy = pieza2 Sample = pieza2background120 EDLoss = 1.1320 RLoss = 0.7654 IoU = ['0.2025', '0.2067', '0.2596', '0.2445']\n",
            "[INFO] 2021-07-08 23:29:48.897409 Test[62/90] Taxonomy = pieza2 Sample = pieza2background121 EDLoss = 1.1360 RLoss = 0.7719 IoU = ['0.2030', '0.2036', '0.2479', '0.2648']\n",
            "[INFO] 2021-07-08 23:29:49.853053 Test[63/90] Taxonomy = pieza2 Sample = pieza2background122 EDLoss = 1.1141 RLoss = 0.7505 IoU = ['0.2029', '0.2195', '0.2688', '0.2343']\n",
            "[INFO] 2021-07-08 23:29:50.768311 Test[64/90] Taxonomy = pieza2 Sample = pieza2background123 EDLoss = 1.1331 RLoss = 0.7697 IoU = ['0.2033', '0.2013', '0.2511', '0.2664']\n",
            "[INFO] 2021-07-08 23:29:51.651349 Test[65/90] Taxonomy = pieza2 Sample = pieza2background124 EDLoss = 1.1191 RLoss = 0.7567 IoU = ['0.2033', '0.2030', '0.2593', '0.2475']\n",
            "[INFO] 2021-07-08 23:29:52.582133 Test[66/90] Taxonomy = pieza2 Sample = pieza2background125 EDLoss = 1.1288 RLoss = 0.7672 IoU = ['0.2034', '0.2027', '0.2479', '0.2631']\n",
            "[INFO] 2021-07-08 23:29:53.474941 Test[67/90] Taxonomy = pieza2 Sample = pieza2background126 EDLoss = 1.1023 RLoss = 0.7395 IoU = ['0.2033', '0.2201', '0.2715', '0.2116']\n",
            "[INFO] 2021-07-08 23:29:54.317548 Test[68/90] Taxonomy = pieza2 Sample = pieza2background127 EDLoss = 1.1131 RLoss = 0.7509 IoU = ['0.2029', '0.2110', '0.2667', '0.2373']\n",
            "[INFO] 2021-07-08 23:29:55.369330 Test[69/90] Taxonomy = pieza2 Sample = pieza2background128 EDLoss = 1.1730 RLoss = 0.7938 IoU = ['0.2030', '0.2012', '0.2406', '0.2655']\n",
            "[INFO] 2021-07-08 23:29:56.277878 Test[70/90] Taxonomy = pieza2 Sample = pieza2background129 EDLoss = 1.1088 RLoss = 0.7464 IoU = ['0.2030', '0.2177', '0.2708', '0.2296']\n",
            "[INFO] 2021-07-08 23:29:57.137849 Test[71/90] Taxonomy = pieza2 Sample = pieza2background130 EDLoss = 1.1177 RLoss = 0.7557 IoU = ['0.2028', '0.2088', '0.2670', '0.2458']\n",
            "[INFO] 2021-07-08 23:29:58.023268 Test[72/90] Taxonomy = pieza2 Sample = pieza2background131 EDLoss = 1.1452 RLoss = 0.7760 IoU = ['0.2032', '0.2053', '0.2500', '0.2660']\n",
            "[INFO] 2021-07-08 23:29:58.940943 Test[73/90] Taxonomy = pieza2 Sample = pieza2background132 EDLoss = 1.1110 RLoss = 0.7500 IoU = ['0.2028', '0.2120', '0.2698', '0.2398']\n",
            "[INFO] 2021-07-08 23:29:59.903532 Test[74/90] Taxonomy = pieza2 Sample = pieza2background133 EDLoss = 1.1163 RLoss = 0.7531 IoU = ['0.2028', '0.2076', '0.2650', '0.2390']\n",
            "[INFO] 2021-07-08 23:30:00.902071 Test[75/90] Taxonomy = pieza2 Sample = pieza2background134 EDLoss = 1.1302 RLoss = 0.7655 IoU = ['0.2032', '0.2052', '0.2493', '0.2563']\n",
            "[INFO] 2021-07-08 23:30:01.815456 Test[76/90] Taxonomy = pieza2 Sample = pieza2background135 EDLoss = 1.1295 RLoss = 0.7670 IoU = ['0.2032', '0.2026', '0.2518', '0.2601']\n",
            "[INFO] 2021-07-08 23:30:02.766290 Test[77/90] Taxonomy = pieza2 Sample = pieza2background136 EDLoss = 1.1065 RLoss = 0.7442 IoU = ['0.2033', '0.2196', '0.2742', '0.2215']\n",
            "[INFO] 2021-07-08 23:30:03.659515 Test[78/90] Taxonomy = pieza2 Sample = pieza2background137 EDLoss = 1.1176 RLoss = 0.7519 IoU = ['0.2029', '0.2164', '0.2681', '0.2309']\n",
            "[INFO] 2021-07-08 23:30:04.622918 Test[79/90] Taxonomy = pieza2 Sample = pieza2background138 EDLoss = 1.1083 RLoss = 0.7464 IoU = ['0.2030', '0.2155', '0.2736', '0.2283']\n",
            "[INFO] 2021-07-08 23:30:05.526632 Test[80/90] Taxonomy = pieza2 Sample = pieza2background139 EDLoss = 1.1115 RLoss = 0.7484 IoU = ['0.2037', '0.2112', '0.2797', '0.2181']\n",
            "[INFO] 2021-07-08 23:30:06.523555 Test[81/90] Taxonomy = pieza2 Sample = pieza2background140 EDLoss = 1.1094 RLoss = 0.7448 IoU = ['0.2028', '0.2209', '0.2715', '0.2177']\n",
            "[INFO] 2021-07-08 23:30:07.473200 Test[82/90] Taxonomy = pieza2 Sample = pieza2background141 EDLoss = 1.1047 RLoss = 0.7414 IoU = ['0.2034', '0.2208', '0.2741', '0.2147']\n",
            "[INFO] 2021-07-08 23:30:08.362641 Test[83/90] Taxonomy = pieza2 Sample = pieza2background142 EDLoss = 1.1200 RLoss = 0.7563 IoU = ['0.2028', '0.2072', '0.2608', '0.2458']\n",
            "[INFO] 2021-07-08 23:30:09.292909 Test[84/90] Taxonomy = pieza2 Sample = pieza2background143 EDLoss = 1.1249 RLoss = 0.7613 IoU = ['0.2027', '0.2051', '0.2619', '0.2504']\n",
            "[INFO] 2021-07-08 23:30:10.216455 Test[85/90] Taxonomy = pieza2 Sample = pieza2background144 EDLoss = 1.2382 RLoss = 0.8277 IoU = ['0.2015', '0.2012', '0.2188', '0.2637']\n",
            "[INFO] 2021-07-08 23:30:11.036719 Test[86/90] Taxonomy = pieza2 Sample = pieza2background145 EDLoss = 1.1262 RLoss = 0.7652 IoU = ['0.2034', '0.2032', '0.2604', '0.2618']\n",
            "[INFO] 2021-07-08 23:30:11.919012 Test[87/90] Taxonomy = pieza2 Sample = pieza2background146 EDLoss = 1.2017 RLoss = 0.8090 IoU = ['0.2025', '0.1997', '0.2339', '0.2638']\n",
            "[INFO] 2021-07-08 23:30:12.850966 Test[88/90] Taxonomy = pieza2 Sample = pieza2background147 EDLoss = 1.1099 RLoss = 0.7467 IoU = ['0.2030', '0.2188', '0.2713', '0.2249']\n",
            "[INFO] 2021-07-08 23:30:13.835525 Test[89/90] Taxonomy = pieza2 Sample = pieza2background148 EDLoss = 1.3753 RLoss = 0.8914 IoU = ['0.1972', '0.2027', '0.2232', '0.2432']\n",
            "[INFO] 2021-07-08 23:30:14.764861 Test[90/90] Taxonomy = pieza2 Sample = pieza2background149 EDLoss = 1.1077 RLoss = 0.7439 IoU = ['0.2034', '0.2238', '0.2744', '0.2198']\n",
            "[INFO/Process-1] process shutting down\n",
            "[INFO/Process-1] process exiting with exitcode 0\n",
            "============================ TEST RESULTS ============================\n",
            "# of views : 3\n",
            "Taxonomy\t#Sample\tBaseline\tt=0.20\tt=0.30\tt=0.40\tt=0.50\t\n",
            "piezaCero\t30\t0.7320\t\t0.4829\t0.4330\t0.1688\t0.1129\t\n",
            "piezaUno\t30\t0.5450\t\t0.1994\t0.2118\t0.1496\t0.1283\t\n",
            "piezaDos\t30\t0.5930\t\t0.2028\t0.2098\t0.2594\t0.2425\t\n",
            "Overall \t\t\t\t0.2950\t0.2849\t0.1926\t0.1612\t\n",
            "\n",
            "[INFO/MainProcess] process shutting down\n"
          ],
          "name": "stdout"
        }
      ]
    }
  ]
}